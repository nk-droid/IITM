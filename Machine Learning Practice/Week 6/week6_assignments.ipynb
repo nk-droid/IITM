{
  "cells": [
    {
      "cell_type": "code",
      "execution_count": null,
      "metadata": {
        "id": "KgHMkThK3Cf0"
      },
      "outputs": [],
      "source": [
        "import numpy as np\n",
        "import pandas as pd"
      ]
    },
    {
      "attachments": {},
      "cell_type": "markdown",
      "metadata": {
        "id": "63j_dEEMnInS"
      },
      "source": [
        "## PRACTICE ASSIGNMENT"
      ]
    },
    {
      "attachments": {},
      "cell_type": "markdown",
      "metadata": {
        "id": "RG0TFKRLnPBe"
      },
      "source": [
        "Q1. Use MNIST dataset. Store all the samples in X and labels in y.\n",
        " \n",
        "  Use: np.random.seed(42)\n",
        "\n",
        "  Split the dataset in the following ratio.\n",
        "\n",
        " Training : Take the first 70% of samples from X and store them in x_train\n",
        "\n",
        " Testing: Take the remaining 30% of samples from X and store them in x_test\n",
        "\n",
        "  Store the respective labels in y_train,y_test respectively.\n",
        "\n",
        "  The last training sample is of digit __?"
      ]
    },
    {
      "cell_type": "code",
      "execution_count": null,
      "metadata": {
        "id": "WuVQOW7BXLuZ"
      },
      "outputs": [],
      "source": [
        "from sklearn.datasets import fetch_openml\n",
        "X, y = fetch_openml('mnist_784', version = 1, return_X_y = True)"
      ]
    },
    {
      "cell_type": "code",
      "execution_count": null,
      "metadata": {
        "id": "tKlbvctW28re"
      },
      "outputs": [],
      "source": [
        "np.random.seed = 42"
      ]
    },
    {
      "cell_type": "code",
      "execution_count": null,
      "metadata": {
        "colab": {
          "base_uri": "https://localhost:8080/"
        },
        "id": "MoPF-jLcxktN",
        "outputId": "8fe10df6-25de-4266-f4f3-6de14631562c"
      },
      "outputs": [
        {
          "data": {
            "text/plain": [
              "pixel1      0.0\n",
              "pixel2      0.0\n",
              "pixel3      0.0\n",
              "pixel4      0.0\n",
              "pixel5      0.0\n",
              "           ... \n",
              "pixel780    0.0\n",
              "pixel781    0.0\n",
              "pixel782    0.0\n",
              "pixel783    0.0\n",
              "pixel784    0.0\n",
              "Name: 0, Length: 784, dtype: float64"
            ]
          },
          "execution_count": 53,
          "metadata": {},
          "output_type": "execute_result"
        }
      ],
      "source": [
        "X.iloc[0]"
      ]
    },
    {
      "cell_type": "code",
      "execution_count": null,
      "metadata": {
        "colab": {
          "base_uri": "https://localhost:8080/",
          "height": 35
        },
        "id": "rLrxKvKn3KWp",
        "outputId": "5ef9caee-a11d-4391-931b-3b2dfcd017f0"
      },
      "outputs": [
        {
          "data": {
            "application/vnd.google.colaboratory.intrinsic+json": {
              "type": "string"
            },
            "text/plain": [
              "'6'"
            ]
          },
          "execution_count": 5,
          "metadata": {},
          "output_type": "execute_result"
        }
      ],
      "source": [
        "from sklearn.model_selection import train_test_split\n",
        "X_train, X_test, y_train, y_test = train_test_split(X, y, test_size = 0.3, shuffle = False)\n",
        "y_train[y_train.shape[0] - 1]"
      ]
    },
    {
      "attachments": {},
      "cell_type": "markdown",
      "metadata": {
        "id": "HL68hd6HEOiT"
      },
      "source": [
        "Build a classifier that differentiates digit 6 from digit 9.\n",
        "\n",
        "Steps to be followed\n",
        "Collect all digit-6 (Positive class) and digit-9 (Negative class) images from \n",
        "\n",
        "x_train\n",
        " and stack them properly as a single datamatrix \n",
        "\n",
        "x_train_69\n",
        "\n",
        "Keep all digit-6 images from index 0 to i followed by digit-9 images from index i+1 to n (i denotes the end index of digit-6 images)\n",
        "Similarly, collect the respective labels and store it in a variable \n",
        "\n",
        "y_train_69\n",
        "Set the label values to 1 for positive classes and 0 for negative classes.\n",
        "Load \n",
        "\n",
        "from sklearn.utils import shuffle\n",
        "Shuffle the datamatrix and labels. (Set \n",
        "\n",
        "random_state\n",
        " value to 1729).\n",
        "Create \n",
        "\n",
        "x_test_69\n",
        " and \n",
        "\n",
        "y_test_69\n",
        " by repeating the steps from 1 to 6 with required modifications."
      ]
    },
    {
      "attachments": {},
      "cell_type": "markdown",
      "metadata": {
        "id": "sx_YZnDnBcO9"
      },
      "source": [
        "Q2. What is the sum of all the labels in the vector y_train_69?"
      ]
    },
    {
      "cell_type": "code",
      "execution_count": null,
      "metadata": {
        "id": "QDZXBloGBq6S"
      },
      "outputs": [],
      "source": [
        "data_xy = pd.concat([y_train, X_train], axis = 1)\n",
        "positive = data_xy[data_xy['class'] == '6'].iloc[:, 1:]\n",
        "negative = data_xy[data_xy['class'] == '9'].iloc[:, 1:]\n",
        "x_train_69 = pd.concat([positive, negative])\n",
        "y_train_69 = np.append(np.ones(positive.shape[0],),(np.zeros(negative.shape[0],)))"
      ]
    },
    {
      "cell_type": "code",
      "execution_count": null,
      "metadata": {
        "id": "O5bZnwg9CtX-"
      },
      "outputs": [],
      "source": [
        "from sklearn.utils import shuffle\n",
        "shuffle_data = shuffle(x_train_69, y_train_69, random_state = 1729)"
      ]
    },
    {
      "cell_type": "code",
      "execution_count": null,
      "metadata": {
        "id": "LurwS3GlDH0X"
      },
      "outputs": [],
      "source": [
        "data_test_xy = pd.concat([y_test, X_test], axis = 1)\n",
        "positive = data_test_xy[data_test_xy['class'] == '6'].iloc[:, 1:]\n",
        "negative = data_test_xy[data_test_xy['class'] == '9'].iloc[:, 1:]\n",
        "x_test_69 = pd.concat([positive, negative])\n",
        "y_test_69 = np.append(np.ones(positive.shape[0],),(np.zeros(negative.shape[0],)))"
      ]
    },
    {
      "cell_type": "code",
      "execution_count": null,
      "metadata": {
        "id": "7609taXRDWfZ"
      },
      "outputs": [],
      "source": [
        "shuffle_test_data = shuffle(x_test_69, y_test_69, random_state = 1729)"
      ]
    },
    {
      "cell_type": "code",
      "execution_count": null,
      "metadata": {
        "colab": {
          "base_uri": "https://localhost:8080/"
        },
        "id": "KuQrWxwTDpPA",
        "outputId": "768de6bb-bec9-41fd-c3e2-f816b20b7182"
      },
      "outputs": [
        {
          "data": {
            "text/plain": [
              "4855.0"
            ]
          },
          "execution_count": 11,
          "metadata": {},
          "output_type": "execute_result"
        }
      ],
      "source": [
        "np.sum(y_train_69)"
      ]
    },
    {
      "attachments": {},
      "cell_type": "markdown",
      "metadata": {
        "id": "JddA9CdXEIFF"
      },
      "source": [
        "Q3. What is the sum of all the labels in the vector y_test_69."
      ]
    },
    {
      "cell_type": "code",
      "execution_count": null,
      "metadata": {
        "colab": {
          "base_uri": "https://localhost:8080/"
        },
        "id": "SVEMC9IfERYi",
        "outputId": "c48f526d-8d34-407e-d3ea-b309ca05c894"
      },
      "outputs": [
        {
          "data": {
            "text/plain": [
              "2021.0"
            ]
          },
          "execution_count": 12,
          "metadata": {},
          "output_type": "execute_result"
        }
      ],
      "source": [
        "np.sum(y_test_69)"
      ]
    },
    {
      "attachments": {},
      "cell_type": "markdown",
      "metadata": {
        "id": "W6xhbfVLEff8"
      },
      "source": [
        "Q4. Apply StandardScaler to all the training samples in x_train_69 and store the result in another variable (say, x_train_69Tf).\n",
        "\n",
        "* What is the mean of the zeroth sample?\n",
        "* What is the mean of zeroth feature?\n",
        "* What is the standard deviation of the zeroth sample?\n",
        "* What is the standard deviation of the zeroth feature?"
      ]
    },
    {
      "cell_type": "code",
      "execution_count": null,
      "metadata": {
        "id": "4tJgIF1-Ej0b"
      },
      "outputs": [],
      "source": [
        "from sklearn.preprocessing import StandardScaler\n",
        "scaler = StandardScaler()\n",
        "x_train_69Tf = scaler.fit_transform(shuffle_data[0])"
      ]
    },
    {
      "cell_type": "code",
      "execution_count": null,
      "metadata": {
        "colab": {
          "base_uri": "https://localhost:8080/"
        },
        "id": "qLWr8836Fcp5",
        "outputId": "19d4e412-6e1f-4b37-9e23-ae0abfd9f69c"
      },
      "outputs": [
        {
          "data": {
            "text/plain": [
              "(0.08128379559427992, 0.0, 0.735882322603775, 0.0)"
            ]
          },
          "execution_count": 14,
          "metadata": {},
          "output_type": "execute_result"
        }
      ],
      "source": [
        "x_train_69Tf[0,:].mean(), x_train_69Tf[:,0].mean(), x_train_69Tf[0,:].std(), x_train_69Tf[:,0].std()"
      ]
    },
    {
      "attachments": {},
      "cell_type": "markdown",
      "metadata": {
        "id": "3Pnw5YPrXoEZ"
      },
      "source": [
        "Q5. Train the LogisticRegression model using SGDClassifier() with the following common settings.\n",
        "\n",
        "* No Regularization\n",
        "* random_state : 10\n",
        "* Iteration : 10\n",
        "\n",
        "Capture the loss for each iteration and plot the iteration vs loss curve. For which of the following settings, the iteration vs loss curve decreased monotonically?\n",
        "\n",
        "A. Set Learning rate : 0.01 and plot the curve and fit the model with `x_train_69 `\n",
        "\n",
        "B. Set learning rate to 0.000001 and fit the model with `x_train_69 ` .\n",
        "\n",
        "C. Keep the learning rate as 0.01. Scale the samples using `StandardScaler()` and fit the model with the pre-processed samples.\n",
        "\n",
        "D. Use the **invscaling** stratagey for the learning rate with power_t = 1. Fit the model with `x_train_69` (without pre-procesing)."
      ]
    },
    {
      "cell_type": "code",
      "execution_count": null,
      "metadata": {
        "colab": {
          "base_uri": "https://localhost:8080/"
        },
        "id": "pt2TLdhiYVnW",
        "outputId": "4e60f7e7-b7f4-4607-df80-141bad08ae05"
      },
      "outputs": [
        {
          "name": "stderr",
          "output_type": "stream",
          "text": [
            "/usr/local/lib/python3.7/dist-packages/sklearn/linear_model/_stochastic_gradient.py:700: ConvergenceWarning: Maximum number of iteration reached before convergence. Consider increasing max_iter to improve the fit.\n",
            "  ConvergenceWarning,\n",
            "/usr/local/lib/python3.7/dist-packages/sklearn/linear_model/_stochastic_gradient.py:700: ConvergenceWarning: Maximum number of iteration reached before convergence. Consider increasing max_iter to improve the fit.\n",
            "  ConvergenceWarning,\n",
            "/usr/local/lib/python3.7/dist-packages/sklearn/linear_model/_stochastic_gradient.py:700: ConvergenceWarning: Maximum number of iteration reached before convergence. Consider increasing max_iter to improve the fit.\n",
            "  ConvergenceWarning,\n",
            "/usr/local/lib/python3.7/dist-packages/sklearn/linear_model/_stochastic_gradient.py:700: ConvergenceWarning: Maximum number of iteration reached before convergence. Consider increasing max_iter to improve the fit.\n",
            "  ConvergenceWarning,\n",
            "/usr/local/lib/python3.7/dist-packages/sklearn/linear_model/_stochastic_gradient.py:700: ConvergenceWarning: Maximum number of iteration reached before convergence. Consider increasing max_iter to improve the fit.\n",
            "  ConvergenceWarning,\n",
            "/usr/local/lib/python3.7/dist-packages/sklearn/linear_model/_stochastic_gradient.py:700: ConvergenceWarning: Maximum number of iteration reached before convergence. Consider increasing max_iter to improve the fit.\n",
            "  ConvergenceWarning,\n",
            "/usr/local/lib/python3.7/dist-packages/sklearn/linear_model/_stochastic_gradient.py:700: ConvergenceWarning: Maximum number of iteration reached before convergence. Consider increasing max_iter to improve the fit.\n",
            "  ConvergenceWarning,\n",
            "/usr/local/lib/python3.7/dist-packages/sklearn/linear_model/_stochastic_gradient.py:700: ConvergenceWarning: Maximum number of iteration reached before convergence. Consider increasing max_iter to improve the fit.\n",
            "  ConvergenceWarning,\n",
            "/usr/local/lib/python3.7/dist-packages/sklearn/linear_model/_stochastic_gradient.py:700: ConvergenceWarning: Maximum number of iteration reached before convergence. Consider increasing max_iter to improve the fit.\n",
            "  ConvergenceWarning,\n",
            "/usr/local/lib/python3.7/dist-packages/sklearn/linear_model/_stochastic_gradient.py:700: ConvergenceWarning: Maximum number of iteration reached before convergence. Consider increasing max_iter to improve the fit.\n",
            "  ConvergenceWarning,\n"
          ]
        }
      ],
      "source": [
        "from sklearn.linear_model import SGDClassifier\n",
        "from sklearn.metrics import log_loss\n",
        "\n",
        "loss1 = []\n",
        "sgd = SGDClassifier(loss = 'log', max_iter = 1, random_state=10, eta0 = 0.01, warm_start = True, alpha = 0, learning_rate='constant', penalty = 'l2')\n",
        "for i in range(10) :\n",
        "  sgd.fit(x_train_69, y_train_69)\n",
        "  y_pred = sgd.predict(x_train_69)\n",
        "  loss1.append(log_loss(y_train_69, y_pred))"
      ]
    },
    {
      "cell_type": "code",
      "execution_count": null,
      "metadata": {
        "colab": {
          "base_uri": "https://localhost:8080/",
          "height": 267
        },
        "id": "SEdbm6FV4UvJ",
        "outputId": "968dd0fc-283c-4cd7-8985-d96670b58b64"
      },
      "outputs": [
        {
          "data": {
            "image/png": "[encoded data removed]",
            "text/plain": [
              "<Figure size 432x288 with 1 Axes>"
            ]
          },
          "metadata": {
            "needs_background": "light"
          },
          "output_type": "display_data"
        }
      ],
      "source": [
        "import matplotlib.pyplot as plt\n",
        "iter = [i for i in range(1,11)]\n",
        "\n",
        "plt.plot(iter, loss1)\n",
        "plt.show()"
      ]
    },
    {
      "cell_type": "code",
      "execution_count": null,
      "metadata": {
        "colab": {
          "base_uri": "https://localhost:8080/"
        },
        "id": "h3oZeYIG67vc",
        "outputId": "5686f029-d356-473e-ac9f-e4873ba33e65"
      },
      "outputs": [
        {
          "name": "stderr",
          "output_type": "stream",
          "text": [
            "/usr/local/lib/python3.7/dist-packages/sklearn/linear_model/_stochastic_gradient.py:700: ConvergenceWarning: Maximum number of iteration reached before convergence. Consider increasing max_iter to improve the fit.\n",
            "  ConvergenceWarning,\n",
            "/usr/local/lib/python3.7/dist-packages/sklearn/linear_model/_stochastic_gradient.py:700: ConvergenceWarning: Maximum number of iteration reached before convergence. Consider increasing max_iter to improve the fit.\n",
            "  ConvergenceWarning,\n",
            "/usr/local/lib/python3.7/dist-packages/sklearn/linear_model/_stochastic_gradient.py:700: ConvergenceWarning: Maximum number of iteration reached before convergence. Consider increasing max_iter to improve the fit.\n",
            "  ConvergenceWarning,\n",
            "/usr/local/lib/python3.7/dist-packages/sklearn/linear_model/_stochastic_gradient.py:700: ConvergenceWarning: Maximum number of iteration reached before convergence. Consider increasing max_iter to improve the fit.\n",
            "  ConvergenceWarning,\n",
            "/usr/local/lib/python3.7/dist-packages/sklearn/linear_model/_stochastic_gradient.py:700: ConvergenceWarning: Maximum number of iteration reached before convergence. Consider increasing max_iter to improve the fit.\n",
            "  ConvergenceWarning,\n",
            "/usr/local/lib/python3.7/dist-packages/sklearn/linear_model/_stochastic_gradient.py:700: ConvergenceWarning: Maximum number of iteration reached before convergence. Consider increasing max_iter to improve the fit.\n",
            "  ConvergenceWarning,\n",
            "/usr/local/lib/python3.7/dist-packages/sklearn/linear_model/_stochastic_gradient.py:700: ConvergenceWarning: Maximum number of iteration reached before convergence. Consider increasing max_iter to improve the fit.\n",
            "  ConvergenceWarning,\n",
            "/usr/local/lib/python3.7/dist-packages/sklearn/linear_model/_stochastic_gradient.py:700: ConvergenceWarning: Maximum number of iteration reached before convergence. Consider increasing max_iter to improve the fit.\n",
            "  ConvergenceWarning,\n",
            "/usr/local/lib/python3.7/dist-packages/sklearn/linear_model/_stochastic_gradient.py:700: ConvergenceWarning: Maximum number of iteration reached before convergence. Consider increasing max_iter to improve the fit.\n",
            "  ConvergenceWarning,\n",
            "/usr/local/lib/python3.7/dist-packages/sklearn/linear_model/_stochastic_gradient.py:700: ConvergenceWarning: Maximum number of iteration reached before convergence. Consider increasing max_iter to improve the fit.\n",
            "  ConvergenceWarning,\n"
          ]
        }
      ],
      "source": [
        "from sklearn.linear_model import SGDClassifier\n",
        "from sklearn.metrics import log_loss\n",
        "\n",
        "loss2 = []\n",
        "sgd = SGDClassifier(loss = 'log', random_state=10, eta0 = 0.000001, max_iter = 1, warm_start = True, alpha = 0, learning_rate='constant', penalty = 'l2')\n",
        "for i in range(10) :\n",
        "  sgd.fit(x_train_69, y_train_69)\n",
        "  y_pred = sgd.predict(x_train_69)\n",
        "  loss2.append(log_loss(y_train_69, y_pred))"
      ]
    },
    {
      "cell_type": "code",
      "execution_count": null,
      "metadata": {
        "colab": {
          "base_uri": "https://localhost:8080/",
          "height": 265
        },
        "id": "4L7ZY7416_NN",
        "outputId": "985b36c7-da26-494e-8f2a-3753a0e02da8"
      },
      "outputs": [
        {
          "data": {
            "image/png": "[encoded data removed]",
            "text/plain": [
              "<Figure size 432x288 with 1 Axes>"
            ]
          },
          "metadata": {
            "needs_background": "light"
          },
          "output_type": "display_data"
        }
      ],
      "source": [
        "import matplotlib.pyplot as plt\n",
        "iter = [i for i in range(1,11)]\n",
        "\n",
        "plt.plot(iter, loss2)\n",
        "plt.show()"
      ]
    },
    {
      "cell_type": "code",
      "execution_count": null,
      "metadata": {
        "colab": {
          "base_uri": "https://localhost:8080/"
        },
        "id": "vpPPF1qp7LM3",
        "outputId": "42df05ac-3bbc-4aa3-9640-b6c5f118605a"
      },
      "outputs": [
        {
          "name": "stderr",
          "output_type": "stream",
          "text": [
            "/usr/local/lib/python3.7/dist-packages/sklearn/linear_model/_stochastic_gradient.py:700: ConvergenceWarning: Maximum number of iteration reached before convergence. Consider increasing max_iter to improve the fit.\n",
            "  ConvergenceWarning,\n",
            "/usr/local/lib/python3.7/dist-packages/sklearn/linear_model/_stochastic_gradient.py:700: ConvergenceWarning: Maximum number of iteration reached before convergence. Consider increasing max_iter to improve the fit.\n",
            "  ConvergenceWarning,\n",
            "/usr/local/lib/python3.7/dist-packages/sklearn/linear_model/_stochastic_gradient.py:700: ConvergenceWarning: Maximum number of iteration reached before convergence. Consider increasing max_iter to improve the fit.\n",
            "  ConvergenceWarning,\n",
            "/usr/local/lib/python3.7/dist-packages/sklearn/linear_model/_stochastic_gradient.py:700: ConvergenceWarning: Maximum number of iteration reached before convergence. Consider increasing max_iter to improve the fit.\n",
            "  ConvergenceWarning,\n",
            "/usr/local/lib/python3.7/dist-packages/sklearn/linear_model/_stochastic_gradient.py:700: ConvergenceWarning: Maximum number of iteration reached before convergence. Consider increasing max_iter to improve the fit.\n",
            "  ConvergenceWarning,\n",
            "/usr/local/lib/python3.7/dist-packages/sklearn/linear_model/_stochastic_gradient.py:700: ConvergenceWarning: Maximum number of iteration reached before convergence. Consider increasing max_iter to improve the fit.\n",
            "  ConvergenceWarning,\n",
            "/usr/local/lib/python3.7/dist-packages/sklearn/linear_model/_stochastic_gradient.py:700: ConvergenceWarning: Maximum number of iteration reached before convergence. Consider increasing max_iter to improve the fit.\n",
            "  ConvergenceWarning,\n",
            "/usr/local/lib/python3.7/dist-packages/sklearn/linear_model/_stochastic_gradient.py:700: ConvergenceWarning: Maximum number of iteration reached before convergence. Consider increasing max_iter to improve the fit.\n",
            "  ConvergenceWarning,\n",
            "/usr/local/lib/python3.7/dist-packages/sklearn/linear_model/_stochastic_gradient.py:700: ConvergenceWarning: Maximum number of iteration reached before convergence. Consider increasing max_iter to improve the fit.\n",
            "  ConvergenceWarning,\n",
            "/usr/local/lib/python3.7/dist-packages/sklearn/linear_model/_stochastic_gradient.py:700: ConvergenceWarning: Maximum number of iteration reached before convergence. Consider increasing max_iter to improve the fit.\n",
            "  ConvergenceWarning,\n"
          ]
        }
      ],
      "source": [
        "from sklearn.linear_model import SGDClassifier\n",
        "from sklearn.metrics import log_loss\n",
        "from sklearn.pipeline import make_pipeline\n",
        "\n",
        "loss3 = []\n",
        "sgd = SGDClassifier(loss = 'log', random_state=10, eta0 = 0.01, max_iter = 1, warm_start = True, alpha = 0, learning_rate='constant', penalty = 'l2')\n",
        "estimator = make_pipeline(StandardScaler(), sgd)\n",
        "for i in range(10) :\n",
        "  estimator.fit(x_train_69, y_train_69)\n",
        "  y_pred = estimator.predict(x_train_69)\n",
        "  loss3.append(log_loss(y_train_69, y_pred))"
      ]
    },
    {
      "cell_type": "code",
      "execution_count": null,
      "metadata": {
        "colab": {
          "base_uri": "https://localhost:8080/",
          "height": 265
        },
        "id": "k0z_z-_cyEOa",
        "outputId": "bd7da740-b44d-402e-d374-7c254bca335b"
      },
      "outputs": [
        {
          "data": {
            "image/png": "[encoded data removed]",
            "text/plain": [
              "<Figure size 432x288 with 1 Axes>"
            ]
          },
          "metadata": {
            "needs_background": "light"
          },
          "output_type": "display_data"
        }
      ],
      "source": [
        "import matplotlib.pyplot as plt\n",
        "iter = [i for i in range(1,11)]\n",
        "\n",
        "plt.plot(iter, loss3)\n",
        "plt.show()"
      ]
    },
    {
      "cell_type": "code",
      "execution_count": null,
      "metadata": {
        "colab": {
          "base_uri": "https://localhost:8080/"
        },
        "id": "MH5cIZGqztO8",
        "outputId": "19ee5e40-da51-41a6-a403-c209b31d0d62"
      },
      "outputs": [
        {
          "name": "stderr",
          "output_type": "stream",
          "text": [
            "/usr/local/lib/python3.7/dist-packages/sklearn/linear_model/_stochastic_gradient.py:700: ConvergenceWarning: Maximum number of iteration reached before convergence. Consider increasing max_iter to improve the fit.\n",
            "  ConvergenceWarning,\n",
            "/usr/local/lib/python3.7/dist-packages/sklearn/linear_model/_stochastic_gradient.py:700: ConvergenceWarning: Maximum number of iteration reached before convergence. Consider increasing max_iter to improve the fit.\n",
            "  ConvergenceWarning,\n",
            "/usr/local/lib/python3.7/dist-packages/sklearn/linear_model/_stochastic_gradient.py:700: ConvergenceWarning: Maximum number of iteration reached before convergence. Consider increasing max_iter to improve the fit.\n",
            "  ConvergenceWarning,\n",
            "/usr/local/lib/python3.7/dist-packages/sklearn/linear_model/_stochastic_gradient.py:700: ConvergenceWarning: Maximum number of iteration reached before convergence. Consider increasing max_iter to improve the fit.\n",
            "  ConvergenceWarning,\n",
            "/usr/local/lib/python3.7/dist-packages/sklearn/linear_model/_stochastic_gradient.py:700: ConvergenceWarning: Maximum number of iteration reached before convergence. Consider increasing max_iter to improve the fit.\n",
            "  ConvergenceWarning,\n",
            "/usr/local/lib/python3.7/dist-packages/sklearn/linear_model/_stochastic_gradient.py:700: ConvergenceWarning: Maximum number of iteration reached before convergence. Consider increasing max_iter to improve the fit.\n",
            "  ConvergenceWarning,\n",
            "/usr/local/lib/python3.7/dist-packages/sklearn/linear_model/_stochastic_gradient.py:700: ConvergenceWarning: Maximum number of iteration reached before convergence. Consider increasing max_iter to improve the fit.\n",
            "  ConvergenceWarning,\n",
            "/usr/local/lib/python3.7/dist-packages/sklearn/linear_model/_stochastic_gradient.py:700: ConvergenceWarning: Maximum number of iteration reached before convergence. Consider increasing max_iter to improve the fit.\n",
            "  ConvergenceWarning,\n",
            "/usr/local/lib/python3.7/dist-packages/sklearn/linear_model/_stochastic_gradient.py:700: ConvergenceWarning: Maximum number of iteration reached before convergence. Consider increasing max_iter to improve the fit.\n",
            "  ConvergenceWarning,\n",
            "/usr/local/lib/python3.7/dist-packages/sklearn/linear_model/_stochastic_gradient.py:700: ConvergenceWarning: Maximum number of iteration reached before convergence. Consider increasing max_iter to improve the fit.\n",
            "  ConvergenceWarning,\n"
          ]
        }
      ],
      "source": [
        "from sklearn.linear_model import SGDClassifier\n",
        "from sklearn.metrics import log_loss\n",
        "\n",
        "loss4 = []\n",
        "sgd = SGDClassifier(loss = 'log', max_iter = 1, random_state=10, eta0 = 0.01, warm_start = True, alpha = 0, learning_rate='invscaling', penalty = 'l2', power_t = 1)\n",
        "for i in range(10) :\n",
        "  sgd.fit(x_train_69, y_train_69)\n",
        "  y_pred = sgd.predict(x_train_69)\n",
        "  loss4.append(log_loss(y_train_69, y_pred))"
      ]
    },
    {
      "cell_type": "code",
      "execution_count": null,
      "metadata": {
        "colab": {
          "base_uri": "https://localhost:8080/",
          "height": 265
        },
        "id": "TlEAyM9E0ARH",
        "outputId": "982105d8-c6f4-44d6-fc09-38e8096a6e49"
      },
      "outputs": [
        {
          "data": {
            "image/png": "[encoded data removed]",
            "text/plain": [
              "<Figure size 432x288 with 1 Axes>"
            ]
          },
          "metadata": {
            "needs_background": "light"
          },
          "output_type": "display_data"
        }
      ],
      "source": [
        "import matplotlib.pyplot as plt\n",
        "iter = [i for i in range(1,11)]\n",
        "\n",
        "plt.plot(iter, loss4)\n",
        "plt.show()"
      ]
    },
    {
      "attachments": {},
      "cell_type": "markdown",
      "metadata": {
        "id": "qh9-OdKYZPZG"
      },
      "source": [
        "## GRADED ASSIGNMENT"
      ]
    },
    {
      "attachments": {},
      "cell_type": "markdown",
      "metadata": {
        "id": "VDosve0ii3Y1"
      },
      "source": [
        "Q1. Train the LogisticRegression model using SGDClassifier() with the following common settings.\n",
        "\n",
        "* No Regularization\n",
        "* random_state : 10\n",
        "* Iteration : 30\n",
        "    \n",
        "Capture the loss for each iteration and plot the iteration vs loss curve. For which of the following settings, the iteration vs loss curve converged quickly to zero loss?\n",
        "\n",
        " A. Set Learning rate : 0.01 and plot the curve and fit the model with `x_train_69 `\n",
        "\n",
        " B. Set learning rate to 0.000001 and fit the model with `x_train_69 ` .\n",
        " \n",
        " C. Keep the learning rate as 0.01. Scale the samples using `StandardScaler()` and fit the model with the pre-processed samples.\n",
        " \n",
        " D. Use the **invscaling** stratagey for the learning rate with power_t = 1. Fit the model with x_train_69 (without pre-procesing)."
      ]
    },
    {
      "cell_type": "code",
      "execution_count": null,
      "metadata": {
        "id": "xu72nxWVlCT8"
      },
      "outputs": [],
      "source": [
        "from sklearn.linear_model import SGDClassifier\n",
        "from sklearn.metrics import log_loss\n",
        "\n",
        "loss1 = []\n",
        "sgd = SGDClassifier(loss = 'log', max_iter = 1, random_state=10, eta0 = 0.01, warm_start = True, alpha = 0, learning_rate='constant', penalty = 'l2')\n",
        "for i in range(30) :\n",
        "  sgd.fit(x_train_69, y_train_69)\n",
        "  y_pred = sgd.predict(x_train_69)\n",
        "  loss1.append(log_loss(y_train_69, y_pred))"
      ]
    },
    {
      "cell_type": "code",
      "execution_count": null,
      "metadata": {
        "colab": {
          "base_uri": "https://localhost:8080/",
          "height": 267
        },
        "id": "0kFpkIQrkvNS",
        "outputId": "2df4f89d-ce2c-4d98-dea2-2edaa8b422e6"
      },
      "outputs": [
        {
          "data": {
            "image/png": "[encoded data removed]",
            "text/plain": [
              "<Figure size 432x288 with 1 Axes>"
            ]
          },
          "metadata": {
            "needs_background": "light"
          },
          "output_type": "display_data"
        }
      ],
      "source": [
        "import matplotlib.pyplot as plt\n",
        "iter = [i for i in range(1,31)]\n",
        "\n",
        "plt.plot(iter, loss1)\n",
        "plt.show()"
      ]
    },
    {
      "cell_type": "code",
      "execution_count": null,
      "metadata": {
        "id": "kXWZ0mgd83QB"
      },
      "outputs": [],
      "source": [
        "from sklearn.linear_model import SGDClassifier\n",
        "from sklearn.metrics import log_loss\n",
        "\n",
        "loss2 = []\n",
        "sgd = SGDClassifier(loss = 'log', random_state=10, eta0 = 0.000001, max_iter = 1, warm_start = True, alpha = 0, learning_rate='constant', penalty = 'l2')\n",
        "for i in range(30) :\n",
        "  sgd.fit(x_train_69, y_train_69)\n",
        "  y_pred = sgd.predict(x_train_69)\n",
        "  loss2.append(log_loss(y_train_69, y_pred))"
      ]
    },
    {
      "cell_type": "code",
      "execution_count": null,
      "metadata": {
        "colab": {
          "base_uri": "https://localhost:8080/",
          "height": 265
        },
        "id": "KqjVW1K982tM",
        "outputId": "00f35f3f-7ecc-4873-a67c-a32d2db9aad3"
      },
      "outputs": [
        {
          "data": {
            "image/png": "[encoded data removed]",
            "text/plain": [
              "<Figure size 432x288 with 1 Axes>"
            ]
          },
          "metadata": {
            "needs_background": "light"
          },
          "output_type": "display_data"
        }
      ],
      "source": [
        "import matplotlib.pyplot as plt\n",
        "iter = [i for i in range(1,31)]\n",
        "\n",
        "plt.plot(iter, loss2)\n",
        "plt.show()"
      ]
    },
    {
      "cell_type": "code",
      "execution_count": null,
      "metadata": {
        "id": "nRSLMbhsBCW4"
      },
      "outputs": [],
      "source": [
        "from sklearn.linear_model import SGDClassifier\n",
        "from sklearn.metrics import log_loss\n",
        "from sklearn.pipeline import make_pipeline\n",
        "\n",
        "loss3 = []\n",
        "sgd = SGDClassifier(loss = 'log', random_state=10, eta0 = 0.01, max_iter = 1, warm_start = True, alpha = 0, learning_rate='constant', penalty = 'l2')\n",
        "estimator = make_pipeline(StandardScaler(), sgd)\n",
        "for i in range(30) :\n",
        "  estimator.fit(x_train_69, y_train_69)\n",
        "  y_pred = estimator.predict(x_train_69)\n",
        "  loss3.append(log_loss(y_train_69, y_pred))"
      ]
    },
    {
      "cell_type": "code",
      "execution_count": null,
      "metadata": {
        "colab": {
          "base_uri": "https://localhost:8080/",
          "height": 265
        },
        "id": "fOMmcZH1BCSa",
        "outputId": "66434252-8581-4af5-e826-f7f56735f1d6"
      },
      "outputs": [
        {
          "data": {
            "image/png": "[encoded data removed]",
            "text/plain": [
              "<Figure size 432x288 with 1 Axes>"
            ]
          },
          "metadata": {
            "needs_background": "light"
          },
          "output_type": "display_data"
        }
      ],
      "source": [
        "import matplotlib.pyplot as plt\n",
        "iter = [i for i in range(1,31)]\n",
        "\n",
        "plt.plot(iter, loss3)\n",
        "plt.show()"
      ]
    },
    {
      "cell_type": "code",
      "execution_count": null,
      "metadata": {
        "id": "1i8xTzfVBBxp"
      },
      "outputs": [],
      "source": [
        "from sklearn.linear_model import SGDClassifier\n",
        "from sklearn.metrics import log_loss\n",
        "\n",
        "loss4 = []\n",
        "sgd = SGDClassifier(loss = 'log', max_iter = 1, random_state=10, eta0 = 0.01, warm_start = True, alpha = 0, learning_rate='invscaling', penalty = 'l2', power_t = 1)\n",
        "for i in range(30) :\n",
        "  sgd.fit(x_train_69, y_train_69)\n",
        "  y_pred = sgd.predict(x_train_69)\n",
        "  loss4.append(log_loss(y_train_69, y_pred))"
      ]
    },
    {
      "cell_type": "code",
      "execution_count": null,
      "metadata": {
        "colab": {
          "base_uri": "https://localhost:8080/",
          "height": 265
        },
        "id": "ypZVHF1kBBhh",
        "outputId": "d7f6d18b-c1b9-4010-9851-4e8e11dc684c"
      },
      "outputs": [
        {
          "data": {
            "image/png": "[encoded data removed]",
            "text/plain": [
              "<Figure size 432x288 with 1 Axes>"
            ]
          },
          "metadata": {
            "needs_background": "light"
          },
          "output_type": "display_data"
        }
      ],
      "source": [
        "import matplotlib.pyplot as plt\n",
        "iter = [i for i in range(1,31)]\n",
        "\n",
        "plt.plot(iter, loss4)\n",
        "plt.show()"
      ]
    },
    {
      "attachments": {},
      "cell_type": "markdown",
      "metadata": {
        "id": "IgJZTFl0kvuH"
      },
      "source": [
        "Q2. In the above question, enter the iteration number for which the loss becomes zero and remains zero for the rest of the iterations.\n"
      ]
    },
    {
      "attachments": {},
      "cell_type": "markdown",
      "metadata": {
        "id": "fB_Pox03HCK7"
      },
      "source": [
        "5"
      ]
    },
    {
      "attachments": {},
      "cell_type": "markdown",
      "metadata": {
        "id": "yKDvsxstk3_G"
      },
      "source": [
        "Q3. Create the classifier with the following settings\n",
        "\n",
        "* No Regularization\n",
        "* eta0 = 0.5\n",
        "* learning_rate = 'inv_scaling'\n",
        "* power_t = 0.5\n",
        "* iterations = 10\n",
        "* Shuffle = True\n",
        "* random_state = 10\n",
        "\n",
        "Train the classifier with `x_train_69`. \n",
        "   \n",
        "Answer the following questions...\n",
        "\n",
        "How many false positives (FP) are there in the predictions made on training samples?"
      ]
    },
    {
      "cell_type": "code",
      "execution_count": null,
      "metadata": {
        "colab": {
          "base_uri": "https://localhost:8080/",
          "height": 351
        },
        "id": "kshWSWKVlMO2",
        "outputId": "270cd70b-d541-4aa9-fe6a-8a3c8197f86c"
      },
      "outputs": [
        {
          "name": "stderr",
          "output_type": "stream",
          "text": [
            "/usr/local/lib/python3.7/dist-packages/sklearn/linear_model/_stochastic_gradient.py:700: ConvergenceWarning: Maximum number of iteration reached before convergence. Consider increasing max_iter to improve the fit.\n",
            "  ConvergenceWarning,\n"
          ]
        },
        {
          "data": {
            "text/plain": [
              "<sklearn.metrics._plot.confusion_matrix.ConfusionMatrixDisplay at 0x7f13e6ebf610>"
            ]
          },
          "execution_count": 31,
          "metadata": {},
          "output_type": "execute_result"
        },
        {
          "data": {
            "image/png": "[encoded data removed]",
            "text/plain": [
              "<Figure size 432x288 with 2 Axes>"
            ]
          },
          "metadata": {
            "needs_background": "light"
          },
          "output_type": "display_data"
        }
      ],
      "source": [
        "sgd = SGDClassifier(eta0 = 0.5, learning_rate='invscaling', power_t = 0.5, max_iter = 10, shuffle=True, random_state = 10)\n",
        "\n",
        "sgd.fit(x_train_69, y_train_69)\n",
        "y_pred = sgd.predict(x_train_69)\n",
        "\n",
        "from sklearn.metrics import confusion_matrix, ConfusionMatrixDisplay\n",
        "cm = confusion_matrix(y_train_69, y_pred)\n",
        "ConfusionMatrixDisplay(confusion_matrix = cm, display_labels = sgd.classes_).plot()"
      ]
    },
    {
      "attachments": {},
      "cell_type": "markdown",
      "metadata": {
        "id": "5wPevek6lMtu"
      },
      "source": [
        "Q4. Display all the False Positive samples.Could a human recognize them correctly?. Get the index of all FP samples in ascending order. Enter the first index."
      ]
    },
    {
      "cell_type": "code",
      "execution_count": null,
      "metadata": {
        "colab": {
          "base_uri": "https://localhost:8080/"
        },
        "id": "u9_e9FVVlPPl",
        "outputId": "867b1805-fc85-4ec4-dc71-f9e58b1e3095"
      },
      "outputs": [
        {
          "data": {
            "text/plain": [
              "4864"
            ]
          },
          "execution_count": 32,
          "metadata": {},
          "output_type": "execute_result"
        }
      ],
      "source": [
        "index_y = np.where(y_train_69 == 0.0)\n",
        "index_y_pred = np.where(y_pred == 1.0)\n",
        "np.intersect1d(index_y, index_y_pred)[0]"
      ]
    },
    {
      "attachments": {},
      "cell_type": "markdown",
      "metadata": {
        "id": "2TITk2xMlSFw"
      },
      "source": [
        "Q5. Load `20newsgroups` data.\n",
        " \n",
        " Vectorize the data using TfidfVectorizer. What is the shape of X?"
      ]
    },
    {
      "cell_type": "code",
      "execution_count": null,
      "metadata": {
        "colab": {
          "base_uri": "https://localhost:8080/"
        },
        "id": "k6KQJO6nlXl0",
        "outputId": "43494b45-cf34-4707-b023-4d648411efdc"
      },
      "outputs": [
        {
          "data": {
            "text/plain": [
              "(11314, 130107)"
            ]
          },
          "execution_count": 33,
          "metadata": {},
          "output_type": "execute_result"
        }
      ],
      "source": [
        "from sklearn.datasets import fetch_20newsgroups\n",
        "from sklearn.feature_extraction.text import TfidfVectorizer\n",
        "\n",
        "data = fetch_20newsgroups()\n",
        "X, y = data.data, data.target\n",
        "tfidf = TfidfVectorizer().fit_transform(X)\n",
        "tfidf.shape"
      ]
    },
    {
      "attachments": {},
      "cell_type": "markdown",
      "metadata": {
        "id": "O3nEygx7lcMP"
      },
      "source": [
        "Q6. Split the data into train and test using train_test_split with test_size = 0.3 and random_state = 0.\n",
        "\n",
        "Use MultinomialNB to train the model.\n",
        "\n",
        "Compute test score."
      ]
    },
    {
      "cell_type": "code",
      "execution_count": null,
      "metadata": {
        "colab": {
          "base_uri": "https://localhost:8080/"
        },
        "id": "yKye0mcJlfWR",
        "outputId": "3ce4d004-1f85-4012-81cd-14d42dd069d8"
      },
      "outputs": [
        {
          "data": {
            "text/plain": [
              "0.9"
            ]
          },
          "execution_count": 34,
          "metadata": {},
          "output_type": "execute_result"
        }
      ],
      "source": [
        "from sklearn.model_selection import train_test_split\n",
        "from sklearn.naive_bayes import MultinomialNB\n",
        "\n",
        "X_train, X_test, y_train, y_test = train_test_split(tfidf, y, test_size = 30, random_state = 0)\n",
        "model = MultinomialNB()\n",
        "model.fit(X_train, y_train)\n",
        "y_pred = model.predict(X_test)\n",
        "model.score(X_test, y_test)"
      ]
    }
  ],
  "metadata": {
    "colab": {
      "provenance": []
    },
    "kernelspec": {
      "display_name": "Python 3",
      "name": "python3"
    },
    "language_info": {
      "name": "python"
    }
  },
  "nbformat": 4,
  "nbformat_minor": 0
}
