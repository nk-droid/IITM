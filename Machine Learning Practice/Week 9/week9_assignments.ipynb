{
  "cells": [
    {
      "cell_type": "code",
      "execution_count": null,
      "metadata": {
        "id": "_woELAueKNuz"
      },
      "outputs": [],
      "source": [
        "import numpy as np\n",
        "import pandas as pd"
      ]
    },
    {
      "attachments": {},
      "cell_type": "markdown",
      "metadata": {
        "id": "6HMKUF0gIj7q"
      },
      "source": [
        "### PRACTICE QUESTIONS"
      ]
    },
    {
      "attachments": {},
      "cell_type": "markdown",
      "metadata": {
        "id": "hDsgyd7GIrFb"
      },
      "source": [
        "**Instructions for Practice Questions 1-3**\n",
        "\n",
        "Load sklearn's wine dataset.\n",
        "\n",
        "Split the dataset into train and test set with 70:30 ratio with `random_state = 1`\n",
        "\n",
        "Train using DecisionTreeClassifier with `random_state = 1` and other values being `default`\n"
      ]
    },
    {
      "cell_type": "code",
      "execution_count": null,
      "metadata": {
        "colab": {
          "base_uri": "https://localhost:8080/"
        },
        "id": "ZvchhdITKDTj",
        "outputId": "d0936ed8-811f-4bcf-d791-0f08a8600147"
      },
      "outputs": [
        {
          "data": {
            "text/plain": [
              "DecisionTreeClassifier(random_state=1)"
            ]
          },
          "execution_count": 69,
          "metadata": {},
          "output_type": "execute_result"
        }
      ],
      "source": [
        "from sklearn.datasets import load_wine\n",
        "from sklearn.model_selection import train_test_split\n",
        "from sklearn.tree import DecisionTreeClassifier\n",
        "\n",
        "data = load_wine()\n",
        "X_train, X_test, y_train, y_test = train_test_split(data.data, data.target, test_size = 0.3, random_state = 1)\n",
        "estimator = DecisionTreeClassifier(random_state = 1)\n",
        "\n",
        "estimator.fit(X_train, y_train)"
      ]
    },
    {
      "attachments": {},
      "cell_type": "markdown",
      "metadata": {
        "id": "UUfCDcJsJ8m7"
      },
      "source": [
        "\n",
        "Q1. Enter the value of the 'score' on training set."
      ]
    },
    {
      "cell_type": "code",
      "execution_count": null,
      "metadata": {
        "colab": {
          "base_uri": "https://localhost:8080/"
        },
        "id": "nJ6DBqsAIfSP",
        "outputId": "862ac347-5e27-4f4e-e5a0-ee38e4f52cc5"
      },
      "outputs": [
        {
          "data": {
            "text/plain": [
              "1.0"
            ]
          },
          "execution_count": 70,
          "metadata": {},
          "output_type": "execute_result"
        }
      ],
      "source": [
        "estimator.score(X_train, y_train)"
      ]
    },
    {
      "attachments": {},
      "cell_type": "markdown",
      "metadata": {
        "id": "UDRpbGdLNP8b"
      },
      "source": [
        "Q2. Enter the value of the 'score' on testing set."
      ]
    },
    {
      "cell_type": "code",
      "execution_count": null,
      "metadata": {
        "colab": {
          "base_uri": "https://localhost:8080/"
        },
        "id": "88tOxbfHNGjK",
        "outputId": "da82fd3c-2fd2-4a76-8c47-1e501799b29f"
      },
      "outputs": [
        {
          "data": {
            "text/plain": [
              "0.9444444444444444"
            ]
          },
          "execution_count": 71,
          "metadata": {},
          "output_type": "execute_result"
        }
      ],
      "source": [
        "estimator.score(X_test, y_test)"
      ]
    },
    {
      "attachments": {},
      "cell_type": "markdown",
      "metadata": {
        "id": "lZbUUUhtPEJa"
      },
      "source": [
        "Q3. What is the level of depth of the trained decision tree."
      ]
    },
    {
      "cell_type": "code",
      "execution_count": null,
      "metadata": {
        "colab": {
          "base_uri": "https://localhost:8080/"
        },
        "id": "NH-8kdSMPHlo",
        "outputId": "ac8a7427-f132-41f5-935c-e76746d727c2"
      },
      "outputs": [
        {
          "data": {
            "text/plain": [
              "6"
            ]
          },
          "execution_count": 72,
          "metadata": {},
          "output_type": "execute_result"
        }
      ],
      "source": [
        "estimator.get_depth()"
      ]
    },
    {
      "attachments": {},
      "cell_type": "markdown",
      "metadata": {
        "id": "MZaSIlaQPd90"
      },
      "source": [
        "**Instructions for Practice Questions 4-6**\n",
        "\n",
        "Load sklearn's `wine dataset`.\n",
        "\n",
        "Split the dataset into train and test set with $70:30$ ratio with `random_state = 1`\n",
        "\n",
        "Train using DecisionTreeClassifier with `random_state = 1`\n",
        " and the following parameters:\n",
        "\n",
        "-- Use `criterion` as 'entropy'\n",
        "\n",
        "-- Use `splitter` as 'random'; `default` is 'best'\n",
        "\n",
        "-- `maximum depth` = 3\n",
        "\n",
        "-- `minimum samples required to split` = 4\n",
        "\n",
        "-- Use `minimum impurity` decrease as 0.1\n",
        "\n",
        "-- Train the 'model' and compute the 'score' on training data and test data."
      ]
    },
    {
      "cell_type": "code",
      "execution_count": null,
      "metadata": {
        "colab": {
          "base_uri": "https://localhost:8080/"
        },
        "id": "LUWMD8o2QgUp",
        "outputId": "f85415b1-f0af-4a1f-bda4-4fb9e17a0575"
      },
      "outputs": [
        {
          "data": {
            "text/plain": [
              "DecisionTreeClassifier(criterion='entropy', max_depth=3,\n",
              "                       min_impurity_decrease=0.1, min_samples_split=4,\n",
              "                       random_state=1, splitter='random')"
            ]
          },
          "execution_count": 73,
          "metadata": {},
          "output_type": "execute_result"
        }
      ],
      "source": [
        "from sklearn.datasets import load_wine\n",
        "from sklearn.model_selection import train_test_split\n",
        "from sklearn.tree import DecisionTreeClassifier\n",
        "\n",
        "data = load_wine()\n",
        "X_train, X_test, y_train, y_test = train_test_split(data.data, data.target, test_size = 0.3, random_state = 1)\n",
        "estimator = DecisionTreeClassifier(random_state = 1, criterion='entropy', splitter='random', max_depth=3, min_samples_split=4, min_impurity_decrease=0.1)\n",
        "\n",
        "estimator.fit(X_train, y_train)"
      ]
    },
    {
      "attachments": {},
      "cell_type": "markdown",
      "metadata": {
        "id": "eBGnDYi7QPhD"
      },
      "source": [
        "Q4. Enter the value of the 'score' on training set."
      ]
    },
    {
      "cell_type": "code",
      "execution_count": null,
      "metadata": {
        "colab": {
          "base_uri": "https://localhost:8080/"
        },
        "id": "udPYWtyIQOsT",
        "outputId": "8186568d-1881-4dde-fef7-1ed9938d57ef"
      },
      "outputs": [
        {
          "data": {
            "text/plain": [
              "0.8145161290322581"
            ]
          },
          "execution_count": 74,
          "metadata": {},
          "output_type": "execute_result"
        }
      ],
      "source": [
        "estimator.score(X_train, y_train)"
      ]
    },
    {
      "attachments": {},
      "cell_type": "markdown",
      "metadata": {
        "id": "zHtKPk17Rdq4"
      },
      "source": [
        "Q5. Enter the value of the 'score' on testing set."
      ]
    },
    {
      "cell_type": "code",
      "execution_count": null,
      "metadata": {
        "colab": {
          "base_uri": "https://localhost:8080/"
        },
        "id": "QqWTtgWtRhrF",
        "outputId": "c2541ffb-60d3-43e3-9ce5-42ea82822a9f"
      },
      "outputs": [
        {
          "data": {
            "text/plain": [
              "0.7777777777777778"
            ]
          },
          "execution_count": 75,
          "metadata": {},
          "output_type": "execute_result"
        }
      ],
      "source": [
        "estimator.score(X_test, y_test)"
      ]
    },
    {
      "attachments": {},
      "cell_type": "markdown",
      "metadata": {
        "id": "snVMO1X1Rnr2"
      },
      "source": [
        "Q6. What is the value of entropy at the root node."
      ]
    },
    {
      "cell_type": "code",
      "execution_count": null,
      "metadata": {
        "colab": {
          "base_uri": "https://localhost:8080/",
          "height": 404
        },
        "id": "BcwfSkF9RrwQ",
        "outputId": "448a5b0a-49c5-4b43-f8a0-ec55fdd5df21"
      },
      "outputs": [
        {
          "data": {
            "text/plain": [
              "[Text(0.5555555555555556, 0.875, 'X[9] <= 6.508\\nentropy = 1.562\\nsamples = 124\\nvalue = [36, 52, 36]'),\n",
              " Text(0.3333333333333333, 0.625, 'X[12] <= 994.339\\nentropy = 1.419\\nsamples = 96\\nvalue = [29, 52, 15]'),\n",
              " Text(0.2222222222222222, 0.375, 'X[11] <= 2.668\\nentropy = 1.175\\nsamples = 75\\nvalue = [8, 52, 15]'),\n",
              " Text(0.1111111111111111, 0.125, 'entropy = 0.99\\nsamples = 34\\nvalue = [0, 19, 15]'),\n",
              " Text(0.3333333333333333, 0.125, 'entropy = 0.712\\nsamples = 41\\nvalue = [8, 33, 0]'),\n",
              " Text(0.4444444444444444, 0.375, 'entropy = 0.0\\nsamples = 21\\nvalue = [21, 0, 0]'),\n",
              " Text(0.7777777777777778, 0.625, 'X[12] <= 890.421\\nentropy = 0.811\\nsamples = 28\\nvalue = [7, 0, 21]'),\n",
              " Text(0.6666666666666666, 0.375, 'entropy = 0.0\\nsamples = 21\\nvalue = [0, 0, 21]'),\n",
              " Text(0.8888888888888888, 0.375, 'entropy = 0.0\\nsamples = 7\\nvalue = [7, 0, 0]')]"
            ]
          },
          "execution_count": 76,
          "metadata": {},
          "output_type": "execute_result"
        },
        {
          "data": {
            "image/png": "[encoded data removed]",
            "text/plain": [
              "<Figure size 432x288 with 1 Axes>"
            ]
          },
          "metadata": {
            "needs_background": "light"
          },
          "output_type": "display_data"
        }
      ],
      "source": [
        "from sklearn import tree\n",
        "\n",
        "tree.plot_tree(estimator, fontsize = 8)"
      ]
    },
    {
      "attachments": {},
      "cell_type": "markdown",
      "metadata": {
        "id": "Ij2VAq05TW47"
      },
      "source": [
        "### GRADED QUESTIONS"
      ]
    },
    {
      "attachments": {},
      "cell_type": "markdown",
      "metadata": {
        "id": "eTyzLDsdTeQv"
      },
      "source": [
        "**Instructions for Graded Questions 1-3**\n",
        "\n",
        "Load sklearn's Wine dataset.\n",
        "\n",
        "Split the dataset into train and test set with $70:30$ ratio with `random_state` = 1\n",
        "\n",
        "Use `DecisionTreeClassifier` with `random_state` = 1\n",
        "\n",
        "Hyperparameter tuning to be done over the following parameters:\n",
        "\n",
        "-- Use `criterion` as 'entropy' or 'gini'\n",
        "\n",
        "-- Use `splitter` as 'random' or 'best'\n",
        "\n",
        "-- Use `minimum number of samples` per leaf as [2,4,6,8,10]\n",
        "\n",
        "-- Use `maximum depth` as [3,4,5,6]\n",
        "\n",
        "-- Use `cross validation` = 4\n",
        "\n",
        "-- Train the 'model'"
      ]
    },
    {
      "cell_type": "code",
      "execution_count": null,
      "metadata": {
        "colab": {
          "base_uri": "https://localhost:8080/"
        },
        "id": "A956tRjLUDmt",
        "outputId": "6d2e2fbc-e3b4-4edc-fdcf-aaf418f48f9e"
      },
      "outputs": [
        {
          "data": {
            "text/plain": [
              "GridSearchCV(cv=4, estimator=DecisionTreeClassifier(random_state=1),\n",
              "             param_grid={'criterion': ['entropy', 'gini'],\n",
              "                         'max_depth': [3, 4, 5, 6],\n",
              "                         'min_samples_leaf': [2, 4, 6, 8, 10],\n",
              "                         'splitter': ['random', 'best']})"
            ]
          },
          "execution_count": 77,
          "metadata": {},
          "output_type": "execute_result"
        }
      ],
      "source": [
        "from sklearn.datasets import load_wine\n",
        "from sklearn.model_selection import train_test_split\n",
        "from sklearn.tree import DecisionTreeClassifier\n",
        "from sklearn.model_selection import GridSearchCV\n",
        "\n",
        "data = load_wine()\n",
        "X_train, X_test, y_train, y_test = train_test_split(data.data, data.target, test_size = 0.3, random_state = 1)\n",
        "\n",
        "params = {'criterion': ['entropy', 'gini'],\n",
        "          'splitter' : ['random', 'best'],\n",
        "          'min_samples_leaf' : [2,4,6,8,10],\n",
        "          'max_depth' : [3,4,5,6]}\n",
        "\n",
        "estimator = DecisionTreeClassifier(random_state = 1)\n",
        "\n",
        "gridcv = GridSearchCV(estimator=estimator, param_grid = params, cv = 4)\n",
        "\n",
        "gridcv.fit(X_train, y_train)"
      ]
    },
    {
      "attachments": {},
      "cell_type": "markdown",
      "metadata": {
        "id": "B1hh2MqSUCOp"
      },
      "source": [
        "Q1. Enter the value of the 'score' on testing set.\n"
      ]
    },
    {
      "cell_type": "code",
      "execution_count": null,
      "metadata": {
        "colab": {
          "base_uri": "https://localhost:8080/"
        },
        "id": "baK8mT7JkDHE",
        "outputId": "cf49999a-8f30-49e3-fe65-00cae0e584c5"
      },
      "outputs": [
        {
          "data": {
            "text/plain": [
              "0.9074074074074074"
            ]
          },
          "execution_count": 78,
          "metadata": {},
          "output_type": "execute_result"
        }
      ],
      "source": [
        "gridcv.score(X_test, y_test)"
      ]
    },
    {
      "attachments": {},
      "cell_type": "markdown",
      "metadata": {
        "id": "dxx0V-axUD7l"
      },
      "source": [
        "Q2. Enter the value of best max_depth of the model after training with GridSearchCV."
      ]
    },
    {
      "cell_type": "code",
      "execution_count": null,
      "metadata": {
        "colab": {
          "base_uri": "https://localhost:8080/"
        },
        "id": "-xqTs4MeUHSO",
        "outputId": "6a6af6ca-3db8-4fa5-a2bc-9bc84d64a9b5"
      },
      "outputs": [
        {
          "data": {
            "text/plain": [
              "4"
            ]
          },
          "execution_count": 79,
          "metadata": {},
          "output_type": "execute_result"
        }
      ],
      "source": [
        "gridcv.best_params_['max_depth']"
      ]
    },
    {
      "attachments": {},
      "cell_type": "markdown",
      "metadata": {
        "id": "ZdBZpWFNUHk3"
      },
      "source": [
        "Q3. Enter the value of best min_samples_leaf of the model after training with GridSearchCV"
      ]
    },
    {
      "cell_type": "code",
      "execution_count": null,
      "metadata": {
        "colab": {
          "base_uri": "https://localhost:8080/"
        },
        "id": "dF_ZDIMEUMbw",
        "outputId": "fac1f66e-1fa7-4a8d-c8cb-4083599b0ff4"
      },
      "outputs": [
        {
          "data": {
            "text/plain": [
              "2"
            ]
          },
          "execution_count": 80,
          "metadata": {},
          "output_type": "execute_result"
        }
      ],
      "source": [
        "gridcv.best_params_['min_samples_leaf']"
      ]
    },
    {
      "attachments": {},
      "cell_type": "markdown",
      "metadata": {
        "id": "eQ2z9Hb7XCt2"
      },
      "source": [
        "**Instructions for Graded Questions 4-7**\n",
        "\n",
        "Load sklearn's `Diabetes` dataset.\n",
        "\n",
        "Split the dataset into train and test set with $70:30$ ratio with random_state = 1\n",
        "\n",
        "Use `DecisionTreeRegressor` with `random_state` = 1 and the following parameters:\n",
        "\n",
        "-- Use `criterion` as 'squared_error'\n",
        "\n",
        "-- Use `splitter` as 'random'\n",
        "\n",
        "-- Use `max_leaf_nodes`= 10,\n",
        "\n",
        "-- Train the 'model' and compute the 'score' on training data and test data"
      ]
    },
    {
      "cell_type": "code",
      "execution_count": null,
      "metadata": {
        "colab": {
          "base_uri": "https://localhost:8080/"
        },
        "id": "1xGCJfevXcM8",
        "outputId": "a110c1ba-6760-4910-aad3-1079405860a0"
      },
      "outputs": [
        {
          "data": {
            "text/plain": [
              "DecisionTreeRegressor(max_leaf_nodes=10, random_state=1, splitter='random')"
            ]
          },
          "execution_count": 81,
          "metadata": {},
          "output_type": "execute_result"
        }
      ],
      "source": [
        "from sklearn.datasets import load_diabetes\n",
        "from sklearn.model_selection import train_test_split\n",
        "from sklearn.tree import DecisionTreeRegressor\n",
        "\n",
        "data = load_diabetes()\n",
        "X_train, X_test, y_train, y_test = train_test_split(data.data, data.target, test_size = 0.3, random_state = 1)\n",
        "\n",
        "estimator = DecisionTreeRegressor(random_state = 1, criterion = 'squared_error', splitter = 'random', max_leaf_nodes = 10)\n",
        "\n",
        "estimator.fit(X_train, y_train)"
      ]
    },
    {
      "attachments": {},
      "cell_type": "markdown",
      "metadata": {
        "id": "TrgcHzizYF3Z"
      },
      "source": [
        "Q4. Enter the value of the 'score' on training set."
      ]
    },
    {
      "cell_type": "code",
      "execution_count": null,
      "metadata": {
        "colab": {
          "base_uri": "https://localhost:8080/"
        },
        "id": "gMix8lfvYoTq",
        "outputId": "196e8716-8b28-4245-c01b-7fd3512f7a83"
      },
      "outputs": [
        {
          "data": {
            "text/plain": [
              "0.5032060624566737"
            ]
          },
          "execution_count": 82,
          "metadata": {},
          "output_type": "execute_result"
        }
      ],
      "source": [
        "estimator.score(X_train, y_train)"
      ]
    },
    {
      "attachments": {},
      "cell_type": "markdown",
      "metadata": {
        "id": "wksuOaF8YqtP"
      },
      "source": [
        "Q5. Enter the value of the 'score' on testing set."
      ]
    },
    {
      "cell_type": "code",
      "execution_count": null,
      "metadata": {
        "colab": {
          "base_uri": "https://localhost:8080/"
        },
        "id": "GDWgyWqPYuL3",
        "outputId": "aad96836-afa6-47a0-ad06-f1406eed4b13"
      },
      "outputs": [
        {
          "data": {
            "text/plain": [
              "0.218771375137222"
            ]
          },
          "execution_count": 83,
          "metadata": {},
          "output_type": "execute_result"
        }
      ],
      "source": [
        "estimator.score(X_test, y_test)"
      ]
    },
    {
      "attachments": {},
      "cell_type": "markdown",
      "metadata": {
        "id": "Gqh3tjX7Yz2X"
      },
      "source": [
        "Q6. What is the value of squared_error at the root node."
      ]
    },
    {
      "cell_type": "code",
      "execution_count": null,
      "metadata": {
        "colab": {
          "base_uri": "https://localhost:8080/",
          "height": 578
        },
        "id": "XBFH4MgtY3pl",
        "outputId": "07e12666-9834-4d0b-8dba-3fe53d6f372e"
      },
      "outputs": [
        {
          "data": {
            "text/plain": [
              "[Text(0.3076923076923077, 0.9285714285714286, 'X[2] <= -0.045\\nsquared_error = 6302.895\\nsamples = 309\\nvalue = 154.065'),\n",
              " Text(0.23076923076923078, 0.7857142857142857, 'squared_error = 1343.27\\nsamples = 48\\nvalue = 89.646'),\n",
              " Text(0.38461538461538464, 0.7857142857142857, 'X[2] <= -0.008\\nsquared_error = 6311.475\\nsamples = 261\\nvalue = 165.912'),\n",
              " Text(0.15384615384615385, 0.6428571428571429, 'X[7] <= 0.025\\nsquared_error = 3253.924\\nsamples = 96\\nvalue = 115.615'),\n",
              " Text(0.07692307692307693, 0.5, 'squared_error = 2446.901\\nsamples = 72\\nvalue = 101.625'),\n",
              " Text(0.23076923076923078, 0.5, 'squared_error = 3326.493\\nsamples = 24\\nvalue = 157.583'),\n",
              " Text(0.6153846153846154, 0.6428571428571429, 'X[8] <= -0.005\\nsquared_error = 5762.145\\nsamples = 165\\nvalue = 195.176'),\n",
              " Text(0.38461538461538464, 0.5, 'X[6] <= -0.016\\nsquared_error = 4794.095\\nsamples = 47\\nvalue = 148.106'),\n",
              " Text(0.3076923076923077, 0.35714285714285715, 'squared_error = 2804.102\\nsamples = 14\\nvalue = 192.429'),\n",
              " Text(0.46153846153846156, 0.35714285714285715, 'X[2] <= 0.008\\nsquared_error = 4451.363\\nsamples = 33\\nvalue = 129.303'),\n",
              " Text(0.38461538461538464, 0.21428571428571427, 'X[7] <= 0.02\\nsquared_error = 3130.521\\nsamples = 13\\nvalue = 95.308'),\n",
              " Text(0.3076923076923077, 0.07142857142857142, 'squared_error = 1753.576\\nsamples = 12\\nvalue = 84.083'),\n",
              " Text(0.46153846153846156, 0.07142857142857142, 'squared_error = 0.0\\nsamples = 1\\nvalue = 230.0'),\n",
              " Text(0.5384615384615384, 0.21428571428571427, 'squared_error = 4070.44\\nsamples = 20\\nvalue = 151.4'),\n",
              " Text(0.8461538461538461, 0.5, 'X[2] <= 0.019\\nsquared_error = 4913.782\\nsamples = 118\\nvalue = 213.924'),\n",
              " Text(0.7692307692307693, 0.35714285714285715, 'X[6] <= 0.015\\nsquared_error = 4193.057\\nsamples = 42\\nvalue = 185.548'),\n",
              " Text(0.6923076923076923, 0.21428571428571427, 'squared_error = 3388.982\\nsamples = 27\\nvalue = 202.593'),\n",
              " Text(0.8461538461538461, 0.21428571428571427, 'squared_error = 4176.116\\nsamples = 15\\nvalue = 154.867'),\n",
              " Text(0.9230769230769231, 0.35714285714285715, 'squared_error = 4621.186\\nsamples = 76\\nvalue = 229.605')]"
            ]
          },
          "execution_count": 84,
          "metadata": {},
          "output_type": "execute_result"
        },
        {
          "data": {
            "image/png": "[encoded data removed]",
            "text/plain": [
              "<Figure size 432x288 with 1 Axes>"
            ]
          },
          "metadata": {
            "needs_background": "light"
          },
          "output_type": "display_data"
        }
      ],
      "source": [
        "tree.plot_tree(estimator)"
      ]
    },
    {
      "attachments": {},
      "cell_type": "markdown",
      "metadata": {
        "id": "a-iTcUmcZiku"
      },
      "source": [
        "Q7. What is the ratio of number of samples in the left child node to the number of samples in the right child node of root (i.e., one level down the root node)?"
      ]
    },
    {
      "cell_type": "code",
      "execution_count": null,
      "metadata": {
        "colab": {
          "base_uri": "https://localhost:8080/"
        },
        "id": "fKsrgUKZZlN_",
        "outputId": "c4ba96df-0236-4f8b-b6e2-1b79fc8f54d5"
      },
      "outputs": [
        {
          "data": {
            "text/plain": [
              "0.1839080459770115"
            ]
          },
          "execution_count": 85,
          "metadata": {},
          "output_type": "execute_result"
        }
      ],
      "source": [
        "# check number of samples at node indexed 1 and 2 and find their ratio\n",
        "\n",
        "48/261"
      ]
    },
    {
      "attachments": {},
      "cell_type": "markdown",
      "metadata": {
        "id": "mK8fwAqNfpsR"
      },
      "source": [
        "**Instructions for Graded Questions 8-10**\n",
        "\n",
        "Load the `diabetes` dataset from sklearn.\n",
        "\n",
        "Split the dataset into train and test set with 70:30 ratio with `random_state` = 1\n",
        "\n",
        "\n",
        "Use `DecisionTreeRegressor` with `max_depth` = 4 and `random_state` = 1 and other values being default.\n",
        "\n",
        "Perform Hyperparameter tuning over the following parameters:\n",
        "\n",
        "-- Use `criterion` as ['squared_error', 'friedman_mse', 'absolute_error', 'poisson']\n",
        "\n",
        "-- Use `splitter` as 'random' or 'best'\n",
        "\n",
        "-- Use `max number of features` as ['auto','sqrt', 'log2'],\n",
        "\n",
        "-- Use `cost complexity pruning` parameter as [0.001,0.01,0.02,0.05]\n",
        "\n",
        "-- Use `cross validation` = 4"
      ]
    },
    {
      "cell_type": "code",
      "execution_count": null,
      "metadata": {
        "colab": {
          "base_uri": "https://localhost:8080/"
        },
        "id": "BuTKK9frgMFK",
        "outputId": "a7f68d55-16d6-44ba-af00-b6481ce8d944"
      },
      "outputs": [
        {
          "data": {
            "text/plain": [
              "GridSearchCV(cv=4, estimator=DecisionTreeRegressor(max_depth=4, random_state=1),\n",
              "             param_grid={'ccp_alpha': [0.001, 0.01, 0.02, 0.05],\n",
              "                         'criterion': ['squared_error', 'friedman_mse',\n",
              "                                       'absolute_error', 'poisson'],\n",
              "                         'max_features': ['auto', 'sqrt', 'log2'],\n",
              "                         'splitter': ['random', 'best']})"
            ]
          },
          "execution_count": 86,
          "metadata": {},
          "output_type": "execute_result"
        }
      ],
      "source": [
        "from sklearn.datasets import load_diabetes\n",
        "from sklearn.model_selection import train_test_split, GridSearchCV\n",
        "from sklearn.tree import DecisionTreeRegressor\n",
        "\n",
        "data = load_diabetes()\n",
        "X_train, X_test, y_train, y_test = train_test_split(data.data, data.target, test_size = 0.3, random_state = 1)\n",
        "\n",
        "params = {'criterion': ['squared_error', 'friedman_mse', 'absolute_error', 'poisson'],\n",
        "          'splitter' : ['random', 'best'],\n",
        "          'max_features' : ['auto','sqrt', 'log2'],\n",
        "          'ccp_alpha' : [0.001,0.01,0.02,0.05]}\n",
        "\n",
        "estimator = DecisionTreeRegressor(random_state = 1, max_depth = 4)\n",
        "\n",
        "gridcv = GridSearchCV(estimator=estimator, param_grid=params, cv=4)\n",
        "\n",
        "gridcv.fit(X_train, y_train)"
      ]
    },
    {
      "attachments": {},
      "cell_type": "markdown",
      "metadata": {
        "id": "7ycRT3VrgHj8"
      },
      "source": [
        "Q8. Enter the value of the 'score' on testing set."
      ]
    },
    {
      "cell_type": "code",
      "execution_count": null,
      "metadata": {
        "colab": {
          "base_uri": "https://localhost:8080/"
        },
        "id": "adi_hNDdihf-",
        "outputId": "28040466-3bd0-4ffe-a760-3427f31daf1b"
      },
      "outputs": [
        {
          "data": {
            "text/plain": [
              "0.10873445074064803"
            ]
          },
          "execution_count": 87,
          "metadata": {},
          "output_type": "execute_result"
        }
      ],
      "source": [
        "gridcv.score(X_test, y_test)"
      ]
    },
    {
      "attachments": {},
      "cell_type": "markdown",
      "metadata": {
        "id": "felVXLfYjKq5"
      },
      "source": [
        "Q9. Enter the value of the best ccp_alpha of the model after performing GridSearchCV."
      ]
    },
    {
      "cell_type": "code",
      "execution_count": null,
      "metadata": {
        "colab": {
          "base_uri": "https://localhost:8080/"
        },
        "id": "s_AJSyAxinYk",
        "outputId": "9769361b-7b29-408d-ca20-4bc9bdf8ef1b"
      },
      "outputs": [
        {
          "data": {
            "text/plain": [
              "0.02"
            ]
          },
          "execution_count": 88,
          "metadata": {},
          "output_type": "execute_result"
        }
      ],
      "source": [
        "gridcv.best_params_['ccp_alpha']"
      ]
    },
    {
      "attachments": {},
      "cell_type": "markdown",
      "metadata": {
        "id": "XdzxHkDqjdNH"
      },
      "source": [
        "Q10. What is the value of the best max_features criteria after performing GridSearchCV?"
      ]
    },
    {
      "cell_type": "code",
      "execution_count": null,
      "metadata": {
        "colab": {
          "base_uri": "https://localhost:8080/",
          "height": 35
        },
        "id": "igIIBTopjMxA",
        "outputId": "3d5b0558-d963-4b5b-e107-5e61d8c73467"
      },
      "outputs": [
        {
          "data": {
            "application/vnd.google.colaboratory.intrinsic+json": {
              "type": "string"
            },
            "text/plain": [
              "'auto'"
            ]
          },
          "execution_count": 89,
          "metadata": {},
          "output_type": "execute_result"
        }
      ],
      "source": [
        "gridcv.best_params_['max_features']"
      ]
    }
  ],
  "metadata": {
    "colab": {
      "provenance": []
    },
    "kernelspec": {
      "display_name": "Python 3",
      "name": "python3"
    },
    "language_info": {
      "name": "python"
    }
  },
  "nbformat": 4,
  "nbformat_minor": 0
}
