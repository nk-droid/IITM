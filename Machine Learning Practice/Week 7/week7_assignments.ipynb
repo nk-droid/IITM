{
  "cells": [
    {
      "cell_type": "code",
      "execution_count": null,
      "metadata": {
        "id": "3XiNnd_Ow0b9"
      },
      "outputs": [],
      "source": [
        "import numpy as np\n",
        "import pandas as pd"
      ]
    },
    {
      "attachments": {},
      "cell_type": "markdown",
      "metadata": {
        "id": "JmBM5dnvwWmo"
      },
      "source": [
        "## PRACTICE ASSIGNMENT"
      ]
    },
    {
      "cell_type": "code",
      "execution_count": null,
      "metadata": {
        "id": "FwIgNb7Pxf8L"
      },
      "outputs": [],
      "source": [
        "# (Common data for 1,2,3)\n",
        "text_data=['A metaverse is a network of 3D virtual worlds focused on social connection.',\n",
        "           'In futurism and science fiction, the term is often described as a hypothetical iteration of the Internet as a single', \n",
        "           'universal virtual world that is facilitated by the use of virtual and augmented reality headsets.',\n",
        "           'The term \"metaverse\" has its origins  the 1992 science fiction novel Snow Crash as a portmanteau of \"meta\" and \"universe.\"',\n",
        "           'Various metaverses have been developed for popular use such as virtual world platforms like Second Life.',\n",
        "           'Some metaverse iterations involve integration between virtual and physical spaces and virtual economies',\n",
        "           'often including a significant interest in advancing virtual reality technology.', \n",
        "           'The term has seen considerable use as a buzzword for public relations purposes to exaggerate development progress for various related technologies and projects.[10] Information privacy and user addiction are concerns within metaverses',\n",
        "           'stemming from challenges facing the social media and video game industries as a whole.']"
      ]
    },
    {
      "attachments": {},
      "cell_type": "markdown",
      "metadata": {
        "id": "Vk3iJCldwwn5"
      },
      "source": [
        "Q1. Vectorize the given text data using countvectorizer() object. What is the shape of text_data after vectorization?"
      ]
    },
    {
      "cell_type": "code",
      "execution_count": null,
      "metadata": {
        "colab": {
          "base_uri": "https://localhost:8080/"
        },
        "id": "83Hvx4_uwP9h",
        "outputId": "e98b8226-9ab8-4b4a-b960-4bee62a5fdd5"
      },
      "outputs": [
        {
          "data": {
            "text/plain": [
              "(9, 99)"
            ]
          },
          "execution_count": 69,
          "metadata": {},
          "output_type": "execute_result"
        }
      ],
      "source": [
        "from sklearn.feature_extraction.text import CountVectorizer\n",
        "vectorizer = CountVectorizer().fit(text_data)\n",
        "vector = vectorizer.transform(text_data)\n",
        "vector.shape"
      ]
    },
    {
      "attachments": {},
      "cell_type": "markdown",
      "metadata": {
        "id": "xfLN3TkH4zi9"
      },
      "source": [
        "Q2. What is the shape of text_data after vectorization after the term that appeared in less than 2 documents are ignored?"
      ]
    },
    {
      "cell_type": "code",
      "execution_count": null,
      "metadata": {
        "colab": {
          "base_uri": "https://localhost:8080/"
        },
        "id": "gPs1i4Cp43H3",
        "outputId": "11492b08-87c7-4fb5-c137-483c1c46fafc"
      },
      "outputs": [
        {
          "data": {
            "text/plain": [
              "False    79\n",
              "True     20\n",
              "dtype: int64"
            ]
          },
          "execution_count": 70,
          "metadata": {},
          "output_type": "execute_result"
        }
      ],
      "source": [
        "df = pd.DataFrame(vector.toarray())\n",
        "pd.value_counts(df.sum(axis = 0) > 1)"
      ]
    },
    {
      "attachments": {},
      "cell_type": "markdown",
      "metadata": {
        "id": "VLaL-nxh43qS"
      },
      "source": [
        "Q3. What is the token associated with word \"metaverse\"?"
      ]
    },
    {
      "cell_type": "code",
      "execution_count": null,
      "metadata": {
        "colab": {
          "base_uri": "https://localhost:8080/"
        },
        "id": "DjnhoslX49qQ",
        "outputId": "9d5c4825-4d45-4ee3-848c-d1c6a69fe838"
      },
      "outputs": [
        {
          "data": {
            "text/plain": [
              "51"
            ]
          },
          "execution_count": 71,
          "metadata": {},
          "output_type": "execute_result"
        }
      ],
      "source": [
        "vectorizer.vocabulary_['metaverse']"
      ]
    },
    {
      "attachments": {},
      "cell_type": "markdown",
      "metadata": {
        "id": "nAbQ-Wx-4-RE"
      },
      "source": [
        "Q4. Write a code to convert the below text into an array after tokenizing it using countvectorizer with 10 features. What will be the output?"
      ]
    },
    {
      "cell_type": "code",
      "execution_count": null,
      "metadata": {
        "id": "tPLLVsdF5JHi"
      },
      "outputs": [],
      "source": [
        "Docs = ['This is the first question.', 'This document is the second document.', 'And this is the third one' ]"
      ]
    },
    {
      "cell_type": "code",
      "execution_count": null,
      "metadata": {
        "colab": {
          "base_uri": "https://localhost:8080/"
        },
        "id": "DGL_3MjB5Mf6",
        "outputId": "6e3f9f17-0729-4bde-ca51-4757537ead46"
      },
      "outputs": [
        {
          "data": {
            "text/plain": [
              "array([[0, 0, 1, 1, 0, 1, 0, 1, 0, 1],\n",
              "       [0, 2, 0, 1, 0, 0, 1, 1, 0, 1],\n",
              "       [1, 0, 0, 1, 1, 0, 0, 1, 1, 1]])"
            ]
          },
          "execution_count": 73,
          "metadata": {},
          "output_type": "execute_result"
        }
      ],
      "source": [
        "vectorizer_docs = CountVectorizer(max_features=10).fit_transform(Docs)\n",
        "vectorizer_docs.toarray()"
      ]
    },
    {
      "attachments": {},
      "cell_type": "markdown",
      "metadata": {
        "id": "90-gg-Xp5M-A"
      },
      "source": [
        "Q5. Define a function called k_closest in python with the following signature:\n",
        "\n",
        "```def k_closest(X: \"set of vectors as np.ndarray\", p: \"test vector as np.array\", k: \"integer. Default 1\") -> np.ndarray```\n",
        "\n",
        "Which returns closest vectors in X which are closest to the vector p. Use the appropriate sklearn methods.\n",
        "\n",
        "Consider, ```X = np.asarray([[72, 69 ,82], [ 9 ,79, 99], [20 ,47, 88], [80 ,64, 49]])``` ```p= np.asarray([[0,0,0]])``` and ```k=1```\n",
        "\n",
        "For these values, what is the output of the function?"
      ]
    },
    {
      "cell_type": "code",
      "execution_count": null,
      "metadata": {
        "colab": {
          "base_uri": "https://localhost:8080/"
        },
        "id": "NSsYQzieH1wP",
        "outputId": "0fcaa2b4-7c65-4165-fc37-726c03b8448d"
      },
      "outputs": [
        {
          "data": {
            "text/plain": [
              "array([20, 47, 88])"
            ]
          },
          "execution_count": 74,
          "metadata": {},
          "output_type": "execute_result"
        }
      ],
      "source": [
        "from sklearn.metrics.pairwise import euclidean_distances\n",
        "\n",
        "def k_closest(X, p, k = 1) -> np.ndarray :\n",
        "  min_dist, index = np.inf, -1\n",
        "  for i in range(X.shape[0]) :\n",
        "    dist = euclidean_distances(X[i].reshape(1, -1), p)\n",
        "    if dist < min_dist :\n",
        "      min_dist, index = dist, i\n",
        "  return X[index]\n",
        "\n",
        "\n",
        "X = np.asarray([[72, 69 ,82], [ 9 ,79, 99], [20 ,47, 88], [80 ,64, 49]])\n",
        "p= np.asarray([[0,0,0]])\n",
        "k_closest(X, p)"
      ]
    },
    {
      "attachments": {},
      "cell_type": "markdown",
      "metadata": {
        "id": "gotXEe2iJOkj"
      },
      "source": [
        "Q6. Define a function called distance in python with the following signature: \n",
        "\n",
        "```def distance( x0 : \"A vector as np.array\", X: \"A list of vectors as np.ndarray\", p : \"p value for Minkowsky distance. Default 2, for Eucledian\"):```\n",
        "\n",
        "which returns a list of calculated Minkowsky distances between the point x0 and all points in X. Recall that the p-Minkowsky distance between $x=(x_1,x_2,…x_n)^T$ and $y=(y_1,y_2,…y_n)^T$ is \n",
        "$δ(x,y)=(|x_1−y_1|^p+|x_2−y_2|^p+⋯+|x_n−y_n|^p)^{\\frac{1}{p}}$\n",
        "\n",
        "Do not use any predefined function to calculate the same. \n",
        "\n",
        "Consider, X0 = np.array([1,0,0,0]), X= np.asarray([[1, 0, 0,0], [0, 1, 1,1],[1,2,0,0]]), p= 2 then, what is the output of the function distance(X0,X,p) ?"
      ]
    },
    {
      "cell_type": "code",
      "execution_count": null,
      "metadata": {
        "colab": {
          "base_uri": "https://localhost:8080/"
        },
        "id": "AJhwwSqyKyxC",
        "outputId": "2fe26c8d-06bf-466c-fedd-8bef831273f2"
      },
      "outputs": [
        {
          "data": {
            "text/plain": [
              "array([0., 2., 2.])"
            ]
          },
          "execution_count": 75,
          "metadata": {},
          "output_type": "execute_result"
        }
      ],
      "source": [
        "def distance( X0, X, p = 2):\n",
        "  res = np.zeros(X.shape[0])\n",
        "  for i in range(X.shape[0]) :\n",
        "    ans = 0\n",
        "    for j in range(X.shape[1]) :\n",
        "      ans += (X[i,j] - X0[j])**p\n",
        "    res[i] += ans**(1/p)\n",
        "  return res\n",
        "\n",
        "X0 = np.array([1,0,0,0])\n",
        "X= np.asarray([[1, 0, 0,0], [0, 1, 1,1],[1,2,0,0]])\n",
        "distance( X0, X)"
      ]
    },
    {
      "attachments": {},
      "cell_type": "markdown",
      "metadata": {
        "id": "lIKkgow9Mx-F"
      },
      "source": [
        "(Common data for Q7 to 11 Practice)\n",
        "\n",
        " Load digit dataset on Colab (datasets.load_digits()) and use softmax regression to build the model Using following steps.\n",
        " \n",
        " Step 1: Load the dataset and split it using train_test_split by keeping: test_size= 0.2 random_state=10\n",
        "\n",
        " Step 2: Use standard scaler as a scaling function to scale the training as well as test data.\n",
        "\n",
        " Step 3: Use Logisticregression() as an estimator and set parameter (multi_class='multinomial', solver='sag') to predict the output."
      ]
    },
    {
      "cell_type": "code",
      "execution_count": null,
      "metadata": {
        "id": "jCZzZJeDN1Ro"
      },
      "outputs": [],
      "source": [
        "from sklearn.datasets import load_digits\n",
        "data = load_digits(as_frame = True)\n",
        "X = data.data\n",
        "y = data.target"
      ]
    },
    {
      "cell_type": "code",
      "execution_count": null,
      "metadata": {
        "colab": {
          "base_uri": "https://localhost:8080/"
        },
        "id": "luekmidpS8x2",
        "outputId": "2d9e37d2-080c-4b54-a7f9-e3cec241335d"
      },
      "outputs": [
        {
          "name": "stderr",
          "output_type": "stream",
          "text": [
            "/usr/local/lib/python3.7/dist-packages/sklearn/linear_model/_sag.py:354: ConvergenceWarning: The max_iter was reached which means the coef_ did not converge\n",
            "  ConvergenceWarning,\n"
          ]
        }
      ],
      "source": [
        "from sklearn.linear_model import LogisticRegression\n",
        "from sklearn.preprocessing import StandardScaler\n",
        "from sklearn.model_selection import train_test_split\n",
        "from sklearn.pipeline import Pipeline\n",
        "\n",
        "X_train, X_test, y_train, y_test = train_test_split(X, y, test_size = 0.2, random_state = 10)\n",
        "\n",
        "pipeline = Pipeline([('scaler', StandardScaler()),\n",
        "                     ('regression', LogisticRegression(multi_class='multinomial', solver = 'sag'))])\n",
        "\n",
        "pipeline.fit(X_train, y_train)\n",
        "y_test_predicted = pipeline.predict(X_test)\n"
      ]
    },
    {
      "attachments": {},
      "cell_type": "markdown",
      "metadata": {
        "id": "BCIkkjmuM5tz"
      },
      "source": [
        "Q7. What is the shape of features data you got in digits dataset ?"
      ]
    },
    {
      "cell_type": "code",
      "execution_count": null,
      "metadata": {
        "colab": {
          "base_uri": "https://localhost:8080/"
        },
        "id": "y4EEJZ6_M-5Q",
        "outputId": "d88407a9-4c18-4b1c-bd78-6d233a88742d"
      },
      "outputs": [
        {
          "data": {
            "text/plain": [
              "(1797, 64)"
            ]
          },
          "execution_count": 78,
          "metadata": {},
          "output_type": "execute_result"
        }
      ],
      "source": [
        "X.shape"
      ]
    },
    {
      "attachments": {},
      "cell_type": "markdown",
      "metadata": {
        "id": "IlIXtYzlM_Yy"
      },
      "source": [
        "Q8. How many labels are there in the dataset?"
      ]
    },
    {
      "cell_type": "code",
      "execution_count": null,
      "metadata": {
        "colab": {
          "base_uri": "https://localhost:8080/"
        },
        "id": "pXYNJPEkNEDL",
        "outputId": "9102516b-e8f2-4587-a148-518cd45c9117"
      },
      "outputs": [
        {
          "data": {
            "text/plain": [
              "10"
            ]
          },
          "execution_count": 79,
          "metadata": {},
          "output_type": "execute_result"
        }
      ],
      "source": [
        "len(y.unique())"
      ]
    },
    {
      "attachments": {},
      "cell_type": "markdown",
      "metadata": {
        "id": "JKHjgUc7NEh1"
      },
      "source": [
        "Q9. How many times label 7 is there in the dataset?"
      ]
    },
    {
      "cell_type": "code",
      "execution_count": null,
      "metadata": {
        "colab": {
          "base_uri": "https://localhost:8080/"
        },
        "id": "3I2W087iNLSb",
        "outputId": "6b063d2a-e3f2-4bef-ca57-e94c88e280c5"
      },
      "outputs": [
        {
          "data": {
            "text/plain": [
              "179"
            ]
          },
          "execution_count": 80,
          "metadata": {},
          "output_type": "execute_result"
        }
      ],
      "source": [
        "pd.value_counts(y == 7)[True]"
      ]
    },
    {
      "attachments": {},
      "cell_type": "markdown",
      "metadata": {
        "id": "hxigG9XWNLnU"
      },
      "source": [
        "Q10. What is the accuracy of the trained model on test data?"
      ]
    },
    {
      "cell_type": "code",
      "execution_count": null,
      "metadata": {
        "colab": {
          "base_uri": "https://localhost:8080/"
        },
        "id": "hDxaKzqxNQui",
        "outputId": "83cb5211-40ee-4284-f68e-2f01c30bb211"
      },
      "outputs": [
        {
          "data": {
            "text/plain": [
              "0.9694444444444444"
            ]
          },
          "execution_count": 81,
          "metadata": {},
          "output_type": "execute_result"
        }
      ],
      "source": [
        "from sklearn.metrics import accuracy_score, f1_score\n",
        "\n",
        "accuracy_score(y_test, y_test_predicted)"
      ]
    },
    {
      "attachments": {},
      "cell_type": "markdown",
      "metadata": {
        "id": "zCBPbEIXNUiy"
      },
      "source": [
        "Q11. Write the f1_score value you got .(Keep parameter average='weighted')"
      ]
    },
    {
      "cell_type": "code",
      "execution_count": null,
      "metadata": {
        "colab": {
          "base_uri": "https://localhost:8080/"
        },
        "id": "aCYjpGTtNW78",
        "outputId": "45d11806-7255-4fad-87ae-d2fbbe35645b"
      },
      "outputs": [
        {
          "data": {
            "text/plain": [
              "0.9697233182569327"
            ]
          },
          "execution_count": 82,
          "metadata": {},
          "output_type": "execute_result"
        }
      ],
      "source": [
        "f1_score(y_test, y_test_predicted, average='weighted')"
      ]
    },
    {
      "attachments": {},
      "cell_type": "markdown",
      "metadata": {
        "id": "lYBBLvopjyS3"
      },
      "source": [
        "## GRADED ASSIGNMENT"
      ]
    },
    {
      "attachments": {},
      "cell_type": "markdown",
      "metadata": {
        "id": "WEiTyOJ7j3VL"
      },
      "source": [
        "**(Common data for Q1 to Q5 graded questions)**\n",
        "\n",
        "Step 1: Download the dataset using following link: (https://drive.google.com/file/d/1v-uxWEgTI0GDCOTZOX3shUMkTf1a_CL7/view?usp=sharing)\n",
        "\n",
        "Step 2: Import the data in google colab using pd.read_csv().\n",
        "\n",
        "Step 3: Seperate features and target data in seperate variable X and Y.\n",
        "\n",
        "Step 4: Convert dataframe X and series y into array and save it in variable X_array,y_array.\n",
        "\n",
        "Step 5: Split the dataset using train_test_split. (Keep parameter train_size=0.7 and random_state=10).\n",
        "\n",
        "Step 6: Reshape the dataset in such a way that each entry of data has 90 samples.\n",
        "\n",
        "Step 7: Use SGD regressor as an estimator and partial_fit to fit the dataset on the model. (Set random_state=10)\n",
        "\n",
        "Step 8: Calculate different evaluation metrics value like mean_square_error, R2_score.\n",
        "\n",
        "Use the training set for fitting the model and use the test data to make the predictions.\n",
        "\n",
        "Note: No need to scale the data. It's already scaled.\n",
        "\n",
        "Answer the below questions."
      ]
    },
    {
      "cell_type": "code",
      "execution_count": null,
      "metadata": {
        "id": "dyG8StXOvwG_"
      },
      "outputs": [],
      "source": [
        "data = pd.read_csv('/content/drive/MyDrive/Assignment_files/MLP/data_for_large_scale.csv')\n",
        "X, y = data[data.columns[:-1]], data['Target']\n",
        "X_array, y_array = X.to_numpy(), y.to_numpy()\n",
        "X_array_train, X_array_test, y_array_train, y_array_test = train_test_split(X_array, y_array, train_size = 0.7, random_state = 10)\n",
        "# X_array_train, X_array_test = X_array_train.reshape(90, 10, -1), X_array_test.reshape(90, 10, -1)"
      ]
    },
    {
      "cell_type": "code",
      "execution_count": null,
      "metadata": {
        "id": "FcZfzdld2NlK"
      },
      "outputs": [],
      "source": [
        "from sklearn.linear_model import SGDRegressor\n",
        "from sklearn.metrics import mean_squared_error, r2_score\n",
        "sgd = SGDRegressor(random_state = 10)\n",
        "for i in range(X_array_train.shape[0]//90) :\n",
        "  sgd.partial_fit(X_array_train[90*i:90*(i+1)], y_array_train[90*i:90*(i+1)])"
      ]
    },
    {
      "attachments": {},
      "cell_type": "markdown",
      "metadata": {
        "id": "eyUDxg33vGYw"
      },
      "source": [
        "Q1. How many fetaures are there in the dataset?"
      ]
    },
    {
      "cell_type": "code",
      "execution_count": null,
      "metadata": {
        "colab": {
          "base_uri": "https://localhost:8080/"
        },
        "id": "d_uiVjjVvIQD",
        "outputId": "b12318cf-cbc4-48dd-f1a9-39e2cbaeaf9d"
      },
      "outputs": [
        {
          "data": {
            "text/plain": [
              "10"
            ]
          },
          "execution_count": 85,
          "metadata": {},
          "output_type": "execute_result"
        }
      ],
      "source": [
        "X.shape[1]"
      ]
    },
    {
      "attachments": {},
      "cell_type": "markdown",
      "metadata": {
        "id": "jTkLXwK5vIsT"
      },
      "source": [
        "Q2. What is the value of intercept you got after training the model using SGDRegressor?(select the closest answer)"
      ]
    },
    {
      "cell_type": "code",
      "execution_count": null,
      "metadata": {
        "colab": {
          "base_uri": "https://localhost:8080/"
        },
        "id": "ia-2D1BdvNF1",
        "outputId": "713dfed0-4f21-4a01-b379-4226a9afbe8c"
      },
      "outputs": [
        {
          "data": {
            "text/plain": [
              "array([-0.00841686])"
            ]
          },
          "execution_count": 86,
          "metadata": {},
          "output_type": "execute_result"
        }
      ],
      "source": [
        "sgd.intercept_"
      ]
    },
    {
      "attachments": {},
      "cell_type": "markdown",
      "metadata": {
        "id": "OFOFQrxDvNYy"
      },
      "source": [
        "Q3. What is the value of cofficient corresponding to \"feature-3\"you got after trainig the model using SGDRegressor? (select the closest answer)"
      ]
    },
    {
      "cell_type": "code",
      "execution_count": null,
      "metadata": {
        "colab": {
          "base_uri": "https://localhost:8080/"
        },
        "id": "NL5T9K2rvRPh",
        "outputId": "66ae8794-1286-43e0-c0fd-9bb18cdb93cb"
      },
      "outputs": [
        {
          "data": {
            "text/plain": [
              "81.24038266340611"
            ]
          },
          "execution_count": 87,
          "metadata": {},
          "output_type": "execute_result"
        }
      ],
      "source": [
        "sgd.coef_[2]"
      ]
    },
    {
      "attachments": {},
      "cell_type": "markdown",
      "metadata": {
        "id": "ej9RASJfvRiH"
      },
      "source": [
        "Q4. What is the value of R2 score for test data?"
      ]
    },
    {
      "cell_type": "code",
      "execution_count": null,
      "metadata": {
        "colab": {
          "base_uri": "https://localhost:8080/"
        },
        "id": "trByf1lnvXcN",
        "outputId": "c98a1962-474c-4864-c7ec-35dc7232364a"
      },
      "outputs": [
        {
          "data": {
            "text/plain": [
              "0.999991968905383"
            ]
          },
          "execution_count": 88,
          "metadata": {},
          "output_type": "execute_result"
        }
      ],
      "source": [
        "y_array_test_predict = sgd.predict(X_array_test)\n",
        "r2_score(y_array_test, y_array_test_predict)"
      ]
    },
    {
      "attachments": {},
      "cell_type": "markdown",
      "metadata": {
        "id": "zKf2rTeHvXvT"
      },
      "source": [
        "Q5. What is the value of cofficient corresponding to \"feature-5\" after 5th iteration?"
      ]
    },
    {
      "cell_type": "code",
      "execution_count": null,
      "metadata": {
        "id": "EsOV7ths-L7q"
      },
      "outputs": [],
      "source": [
        "sgd = SGDRegressor(random_state = 10)\n",
        "for i in range(5) :\n",
        "  sgd.partial_fit(X_array_train[90*i:90*(i+1)], y_array_train[90*i:90*(i+1)])"
      ]
    },
    {
      "cell_type": "code",
      "execution_count": null,
      "metadata": {
        "colab": {
          "base_uri": "https://localhost:8080/"
        },
        "id": "rEIdWhPE-Sz_",
        "outputId": "675b3fa3-9b1e-4ad8-b4d5-354739e401c3"
      },
      "outputs": [
        {
          "data": {
            "text/plain": [
              "57.85396643897833"
            ]
          },
          "execution_count": 90,
          "metadata": {},
          "output_type": "execute_result"
        }
      ],
      "source": [
        "sgd.coef_[4]"
      ]
    },
    {
      "attachments": {},
      "cell_type": "markdown",
      "metadata": {
        "id": "6BW8Dlyl-yOD"
      },
      "source": [
        "**(Common data for Q6 to Q8 Graded questions)**\n",
        "\n",
        "This dataset was constructed by adding elevation information to a 2D road network in North Jutland, Denmark (covering a region of 185 x 135 km^2). Elevation values where extracted from a publicly available massive Laser Scan Point Cloud for Denmark. This 3D road network was eventually used for benchmarking various fuel and CO2 estimation algorithms. This dataset can be used by any applications that require to know very accurate elevation information of a road network to perform more accurate routing for eco-routing, cyclist routes etc. For the data mining and machine learning community, this dataset can be used as 'ground-truth' validation in spatial mining techniques and satellite image processing. It has no class labels,\n",
        "\n",
        "Use this dataset to guess some missing elevation information for some points on the road.\n",
        "\n",
        "Column names:\n",
        "\n",
        "OSM_ID: OpenStreetMap ID for each road segment or edge in the graph.\n",
        "\n",
        "LONGITUDE: Web Mercaptor (Google format) longitude\n",
        "\n",
        "LATITUDE: Web Mercaptor (Google format) latitude\n",
        "\n",
        "ALTITUDE: Height in meters.\n",
        "\n",
        "Load the dataset from link(\"https://archive.ics.uci.edu/ml/machine-learning-databases/00246/3D_spatial_network.txt\"). Set parameter chunk size=20000 and iterator =True in pd.read_csv().\n",
        "\n",
        "NOTE: The above file doesn't have column names\n",
        "\n",
        "Scale your whole dataset first with standard scalar using partial_fit method. Then use SGDRegressor(random state=10) on the dataset and answer the following."
      ]
    },
    {
      "cell_type": "code",
      "execution_count": null,
      "metadata": {
        "colab": {
          "base_uri": "https://localhost:8080/"
        },
        "id": "vHZd2ovGDtOq",
        "outputId": "57f88106-b116-4fb8-b7ed-6b397562f56d"
      },
      "outputs": [
        {
          "name": "stderr",
          "output_type": "stream",
          "text": [
            "/usr/local/lib/python3.7/dist-packages/sklearn/linear_model/_stochastic_gradient.py:1507: ConvergenceWarning: Maximum number of iteration reached before convergence. Consider increasing max_iter to improve the fit.\n",
            "  ConvergenceWarning,\n"
          ]
        },
        {
          "data": {
            "text/plain": [
              "SGDRegressor(max_iter=7, random_state=10)"
            ]
          },
          "execution_count": 91,
          "metadata": {},
          "output_type": "execute_result"
        }
      ],
      "source": [
        "from sklearn.preprocessing import StandardScaler\n",
        "data = pd.read_csv(\"https://archive.ics.uci.edu/ml/machine-learning-databases/00246/3D_spatial_network.txt\", chunksize=20000, iterator=True, names=['OSM_ID','LONGITUDE','LATITUDE','ALTITUDE'])\n",
        "scaler = StandardScaler()\n",
        "sgd = SGDRegressor(random_state=10, max_iter=7)\n",
        "\n",
        "for chunk in data :\n",
        "  X, y = chunk[chunk.columns[:-1]], chunk['ALTITUDE']\n",
        "  X_scaled = scaler.partial_fit(X)\n",
        "  X_scaled = scaler.transform(X)\n",
        "\n",
        "sgd.fit(X_scaled, y)"
      ]
    },
    {
      "attachments": {},
      "cell_type": "markdown",
      "metadata": {
        "id": "9pKqdwOADuEj"
      },
      "source": [
        "Q6. Check how many total samples are there in the dataset?\n",
        "\n"
      ]
    },
    {
      "cell_type": "code",
      "execution_count": null,
      "metadata": {
        "colab": {
          "base_uri": "https://localhost:8080/"
        },
        "id": "KgFXRZ1rlqpX",
        "outputId": "e19b2fda-8f6d-46d0-eca1-6a0aedee8b7e"
      },
      "outputs": [
        {
          "data": {
            "text/plain": [
              "434874"
            ]
          },
          "execution_count": 92,
          "metadata": {},
          "output_type": "execute_result"
        }
      ],
      "source": [
        "pd.read_csv(\"https://archive.ics.uci.edu/ml/machine-learning-databases/00246/3D_spatial_network.txt\", header = None).shape[0]"
      ]
    },
    {
      "attachments": {},
      "cell_type": "markdown",
      "metadata": {
        "id": "VVH9UkJtlrRU"
      },
      "source": [
        "Q7. What is the value of intercept after 7th iteration. (select the closest option)."
      ]
    },
    {
      "cell_type": "code",
      "execution_count": null,
      "metadata": {
        "colab": {
          "base_uri": "https://localhost:8080/"
        },
        "id": "LQC5sKzJlvrZ",
        "outputId": "0ecd0242-124a-4bfd-c4c0-05a726d58e8f"
      },
      "outputs": [
        {
          "data": {
            "text/plain": [
              "array([21.84911436])"
            ]
          },
          "execution_count": 93,
          "metadata": {},
          "output_type": "execute_result"
        }
      ],
      "source": [
        "sgd.intercept_"
      ]
    },
    {
      "attachments": {},
      "cell_type": "markdown",
      "metadata": {
        "id": "-jiRbqFTlwIY"
      },
      "source": [
        "Q8. What is the value of cofficient corresponding to longitude feature after 7th iteration.(select the closest option)."
      ]
    },
    {
      "cell_type": "code",
      "execution_count": null,
      "metadata": {
        "colab": {
          "base_uri": "https://localhost:8080/"
        },
        "id": "KarbYPLOl2CO",
        "outputId": "95441a59-491f-4575-b123-e863138bcab0"
      },
      "outputs": [
        {
          "data": {
            "text/plain": [
              "3.8296130236292396"
            ]
          },
          "execution_count": 94,
          "metadata": {},
          "output_type": "execute_result"
        }
      ],
      "source": [
        "sgd.coef_[1]"
      ]
    },
    {
      "attachments": {},
      "cell_type": "markdown",
      "metadata": {
        "id": "qPKcs60gDuno"
      },
      "source": [
        "**(Common data for Q9 to 11)**\n",
        "\n",
        "Load Iris datset on Colab and use KNN classifier to build the model Using following steps.\n",
        "\n",
        "Step 1: Load the dataset and split it using train_test_split by keeping: test_size= 0.2 random_state=10\n",
        "\n",
        "Step 2: Use Normalizer() as a scaling function to scale the data.\n",
        "\n",
        "Step 3: Use KNeighborsClassifier(K) as an estimator to predict the output."
      ]
    },
    {
      "cell_type": "code",
      "execution_count": null,
      "metadata": {
        "id": "lq27tBrMDx4T"
      },
      "outputs": [],
      "source": [
        "from sklearn.datasets import load_iris\n",
        "from sklearn.neighbors import KNeighborsClassifier\n",
        "from sklearn.pipeline import Pipeline\n",
        "from sklearn.preprocessing import Normalizer\n",
        "from sklearn.metrics import accuracy_score, f1_score\n",
        "\n",
        "X, y = load_iris(return_X_y = True)\n",
        "X_train, X_test, y_train, y_test = train_test_split(X, y , test_size = 0.2, random_state = 10)\n",
        "pipeline2 = Pipeline([('scaler', Normalizer()),\n",
        "                     ('knn', KNeighborsClassifier(n_neighbors = 2))])\n",
        "pipeline3 = Pipeline([('scaler', Normalizer()),\n",
        "                     ('knn', KNeighborsClassifier(n_neighbors = 3))])\n",
        "pipeline4 = Pipeline([('scaler', Normalizer()),\n",
        "                     ('knn', KNeighborsClassifier(n_neighbors = 4))])\n",
        "y_test_predict2 = pipeline2.fit(X_train, y_train).predict(X_test)\n",
        "y_test_predict3 = pipeline3.fit(X_train, y_train).predict(X_test)\n",
        "y_test_predict4 = pipeline4.fit(X_train, y_train).predict(X_test)"
      ]
    },
    {
      "attachments": {},
      "cell_type": "markdown",
      "metadata": {
        "id": "Vs9yLfBtFZjO"
      },
      "source": [
        "Q9. Which of the following K value gives the best accuracy on test set."
      ]
    },
    {
      "cell_type": "code",
      "execution_count": null,
      "metadata": {
        "colab": {
          "base_uri": "https://localhost:8080/"
        },
        "id": "1nAixdfZFbso",
        "outputId": "9f66fa24-cd12-4e5c-b1e1-cae29430ab82"
      },
      "outputs": [
        {
          "data": {
            "text/plain": [
              "(0.9666666666666667, 0.9666666666666667, 0.9666666666666667)"
            ]
          },
          "execution_count": 96,
          "metadata": {},
          "output_type": "execute_result"
        }
      ],
      "source": [
        "accuracy_score(y_test, y_test_predict2), accuracy_score(y_test, y_test_predict3), accuracy_score(y_test, y_test_predict4)"
      ]
    },
    {
      "attachments": {},
      "cell_type": "markdown",
      "metadata": {
        "id": "LaN3hFVgFb6K"
      },
      "source": [
        "Q10. What is the accuracy for k=3?"
      ]
    },
    {
      "cell_type": "code",
      "execution_count": null,
      "metadata": {
        "colab": {
          "base_uri": "https://localhost:8080/"
        },
        "id": "AjGv13ZxFfu1",
        "outputId": "e2e335ee-0ada-4e35-e16b-37d99094c735"
      },
      "outputs": [
        {
          "data": {
            "text/plain": [
              "0.9666666666666667"
            ]
          },
          "execution_count": 97,
          "metadata": {},
          "output_type": "execute_result"
        }
      ],
      "source": [
        "accuracy_score(y_test, y_test_predict3)"
      ]
    },
    {
      "attachments": {},
      "cell_type": "markdown",
      "metadata": {
        "id": "zZIpM7QbFgC6"
      },
      "source": [
        "Q11. Compute wieghted F1 score value for k=3.(Keep parameter average='weighted')"
      ]
    },
    {
      "cell_type": "code",
      "execution_count": null,
      "metadata": {
        "colab": {
          "base_uri": "https://localhost:8080/"
        },
        "id": "tRcL2_yKFkW5",
        "outputId": "5a37443e-9572-438d-f076-ad80fc9c4ac4"
      },
      "outputs": [
        {
          "data": {
            "text/plain": [
              "0.9671111111111111"
            ]
          },
          "execution_count": 98,
          "metadata": {},
          "output_type": "execute_result"
        }
      ],
      "source": [
        "f1_score(y_test, y_test_predict3, average='weighted')"
      ]
    }
  ],
  "metadata": {
    "colab": {
      "provenance": []
    },
    "kernelspec": {
      "display_name": "Python 3",
      "name": "python3"
    },
    "language_info": {
      "name": "python"
    }
  },
  "nbformat": 4,
  "nbformat_minor": 0
}
