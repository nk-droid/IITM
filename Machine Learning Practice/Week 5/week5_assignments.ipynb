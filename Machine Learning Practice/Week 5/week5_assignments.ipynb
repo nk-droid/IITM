{
  "cells": [
    {
      "cell_type": "markdown",
      "metadata": {
        "id": "5SsYJDCHucEo"
      },
      "source": [
        "## **PRACTICE ASSIGNMENT**"
      ]
    },
    {
      "cell_type": "code",
      "execution_count": null,
      "metadata": {
        "colab": {
          "base_uri": "https://localhost:8080/",
          "height": 36
        },
        "id": "YxfJntx_6jK7",
        "outputId": "81d05e2d-ca06-4b63-e107-f6e65e48b99b"
      },
      "outputs": [
        {
          "output_type": "execute_result",
          "data": {
            "text/plain": [
              "'1.0.2'"
            ],
            "application/vnd.google.colaboratory.intrinsic+json": {
              "type": "string"
            }
          },
          "metadata": {},
          "execution_count": 24
        }
      ],
      "source": [
        "import sklearn\n",
        "sklearn.__version__"
      ]
    },
    {
      "cell_type": "code",
      "execution_count": null,
      "metadata": {
        "id": "dCAdojInD3Zq"
      },
      "outputs": [],
      "source": [
        "import numpy as np\n",
        "import pandas as pd"
      ]
    },
    {
      "cell_type": "code",
      "execution_count": null,
      "metadata": {
        "id": "WaXOJjCEBHWk"
      },
      "outputs": [],
      "source": [
        "import requests\n",
        "requests.packages.urllib3.disable_warnings()\n",
        "import ssl\n",
        "\n",
        "try:\n",
        "    _create_unverified_https_context = ssl._create_unverified_context\n",
        "except AttributeError:\n",
        "    # Legacy Python that doesn't verify HTTPS certificates by default\n",
        "    pass\n",
        "else:\n",
        "    # Handle target environment that doesn't support HTTPS verification\n",
        "    ssl._create_default_https_context = _create_unverified_https_context\n",
        "\n",
        "from sklearn.datasets import fetch_openml\n",
        "X,y = fetch_openml('mnist_784',version=1, return_X_y = True,cache= False)"
      ]
    },
    {
      "cell_type": "markdown",
      "metadata": {
        "id": "RmRyIeMNulJN"
      },
      "source": [
        "Q1. Load the MNIST dataset (mnist_784, version=1) from openml. How many number of samples are there in the dataset?"
      ]
    },
    {
      "cell_type": "code",
      "execution_count": null,
      "metadata": {
        "colab": {
          "base_uri": "https://localhost:8080/"
        },
        "id": "7HJnwsizBp1D",
        "outputId": "5ca9ba80-58ab-43f1-bab6-16627d22c9c9"
      },
      "outputs": [
        {
          "output_type": "execute_result",
          "data": {
            "text/plain": [
              "70000"
            ]
          },
          "metadata": {},
          "execution_count": 27
        }
      ],
      "source": [
        "X.shape[0]"
      ]
    },
    {
      "cell_type": "markdown",
      "metadata": {
        "id": "g9hTy5lcByyb"
      },
      "source": [
        "Q2. Access the sample at the index 2022.\n",
        "\n",
        "* What is the label of the sample? \n",
        "* What is the mean value of the sample?\n",
        "* How many zeros are there in the sample?"
      ]
    },
    {
      "cell_type": "code",
      "execution_count": null,
      "metadata": {
        "colab": {
          "base_uri": "https://localhost:8080/"
        },
        "id": "3bpvTqAaB9vR",
        "outputId": "93874be0-70b7-4096-9be6-595f46c01c98"
      },
      "outputs": [
        {
          "output_type": "stream",
          "name": "stdout",
          "text": [
            "2\n",
            "27.761479591836736\n",
            "2022 \n",
            "0.0      643\n",
            "254.0     32\n",
            "6.0        5\n",
            "227.0      4\n",
            "99.0       4\n",
            "        ... \n",
            "3.0        1\n",
            "138.0      1\n",
            "141.0      1\n",
            "149.0      1\n",
            "133.0      1\n",
            "Length: 74, dtype: int64\n"
          ]
        }
      ],
      "source": [
        "print(y[2022])\n",
        "print(np.mean(X[2022:2023].to_numpy()))\n",
        "print(X[2022:2023].T.value_counts())"
      ]
    },
    {
      "cell_type": "markdown",
      "metadata": {
        "id": "a8zSzoctIll8"
      },
      "source": [
        "Q3. Create a dataset by taking first 10000 images for training and next 2000 images for testing from the original dataset. Answer the following questions.\n",
        "\n",
        "* How many unique classes are there in the training set?\n",
        "* The number of training samples for the digit-6 are?\n",
        "* The number of training samples for the digit-9 are?\n",
        "* How many unique classes are there in the test set?\n",
        "* Which class has more number of test samples?\n",
        "  \n",
        "  Pack the answers in a tuple like (2,1000,800,5,7)"
      ]
    },
    {
      "cell_type": "code",
      "execution_count": null,
      "metadata": {
        "id": "0NZFnkR5Iulf"
      },
      "outputs": [],
      "source": [
        "X_train, X_test, y_train, y_test = X[:10000], X[10000:12000], y[:10000], y[10000:12000]\n"
      ]
    },
    {
      "cell_type": "code",
      "execution_count": null,
      "metadata": {
        "colab": {
          "base_uri": "https://localhost:8080/"
        },
        "id": "A1gzEFioJTFl",
        "outputId": "301f6d30-6ab1-4937-b531-b56f3c91cfca"
      },
      "outputs": [
        {
          "output_type": "stream",
          "name": "stdout",
          "text": [
            "10 1014 978 10 \n",
            "\n",
            "1    224\n",
            "9    215\n",
            "7    209\n",
            "0    205\n",
            "4    204\n",
            "3    196\n",
            "6    194\n",
            "2    185\n",
            "5    185\n",
            "8    183\n",
            "Name: class, dtype: int64\n"
          ]
        }
      ],
      "source": [
        "print(len(y_train.unique()), y_train.value_counts()['6'], y_train.value_counts()['9'], len(y_test.unique()), '\\n')\n",
        "print(y_test.value_counts())"
      ]
    },
    {
      "cell_type": "markdown",
      "metadata": {
        "id": "mqbbRk_AM299"
      },
      "source": [
        "**Consider the above modified training and testing sets with first 10000 images for training and next 2000 images for testing.**\n",
        "\n",
        "**Steps to be followed**\n",
        "\n",
        "**Collect all digit-6 (Positive class) and digit-9 (Negative class) images and stack them properly as a single datamatrix.**\n",
        "\n",
        "**By convention, keep all digit-6 images from index 0 to i followed by digit-9 images from index i+1 to n (i denotes the end index of digit-6 images)**\n",
        "\n",
        "**Similarly, collect the respective labels and store it in a variable (Do sanity check).**\n",
        "\n",
        "**Set the label values to 1 for positive classes and -1 for negative classes.**\n",
        "\n",
        "**Load from sklearn.utils import shuffle**\n",
        "\n",
        "**Shuffle the datamatrix and labels. (Set random_state value to 1729).**"
      ]
    },
    {
      "cell_type": "markdown",
      "metadata": {
        "id": "_bwjjelCNDfZ"
      },
      "source": [
        "Q4. What are the first three labels starting from the index 0?"
      ]
    },
    {
      "cell_type": "code",
      "execution_count": null,
      "metadata": {
        "id": "aj7gYKAxKsBM"
      },
      "outputs": [],
      "source": [
        "data_train = pd.concat([y_train, X_train], axis = 1)\n",
        "positive = data_train[data_train['class'] == '6'].iloc[:, 1:]\n",
        "negative = data_train[data_train['class'] == '9'].iloc[:, 1:]\n",
        "data = pd.concat([positive, negative])\n",
        "label = np.append(np.ones(positive.shape[0],),(-1 * np.ones(negative.shape[0],)))"
      ]
    },
    {
      "cell_type": "code",
      "execution_count": null,
      "metadata": {
        "id": "AtqUPrA2T9ZB"
      },
      "outputs": [],
      "source": [
        "from sklearn.utils import shuffle\n",
        "s = shuffle(data, label, random_state=1729)"
      ]
    },
    {
      "cell_type": "code",
      "execution_count": null,
      "metadata": {
        "colab": {
          "base_uri": "https://localhost:8080/"
        },
        "id": "ERHBVumDUI-l",
        "outputId": "0cc50fbb-f82f-4057-c2b0-7579e82b5b43"
      },
      "outputs": [
        {
          "output_type": "execute_result",
          "data": {
            "text/plain": [
              "array([ 1., -1., -1.])"
            ]
          },
          "metadata": {},
          "execution_count": 33
        }
      ],
      "source": [
        "s[1][:3]"
      ]
    },
    {
      "cell_type": "markdown",
      "metadata": {
        "id": "qLWua0mynJRq"
      },
      "source": [
        "Instantiate a perceptron classifier that meets the following requirements\n",
        "\n",
        "* random_state = 1729\n",
        "* learning rate = 1\n",
        "* Train for 10 iterations (epoch)\n",
        "* Set shuffle the dataset for each epoch (iteration) as False.\n",
        "* Include the intercept (bias) term.\n",
        "* No regularization\n",
        "\n",
        "Fit the perceptron classifier on the training dataset."
      ]
    },
    {
      "cell_type": "code",
      "execution_count": null,
      "metadata": {
        "colab": {
          "base_uri": "https://localhost:8080/"
        },
        "id": "ha69nsNjnhmp",
        "outputId": "a97a3a0c-9539-4e23-e791-1560cce4820d"
      },
      "outputs": [
        {
          "output_type": "stream",
          "name": "stderr",
          "text": [
            "/usr/local/lib/python3.7/dist-packages/sklearn/linear_model/_stochastic_gradient.py:700: ConvergenceWarning: Maximum number of iteration reached before convergence. Consider increasing max_iter to improve the fit.\n",
            "  ConvergenceWarning,\n"
          ]
        },
        {
          "output_type": "execute_result",
          "data": {
            "text/plain": [
              "Perceptron(eta0=1, max_iter=10, random_state=1729, shuffle=False)"
            ]
          },
          "metadata": {},
          "execution_count": 34
        }
      ],
      "source": [
        "from sklearn.linear_model import Perceptron\n",
        "perceptron = Perceptron(max_iter=10, eta0=1, shuffle=False, random_state=1729)\n",
        "perceptron.fit(s[0], s[1])\n"
      ]
    },
    {
      "cell_type": "markdown",
      "metadata": {
        "id": "L1lCuMDQnbdb"
      },
      "source": [
        "Q5. What is the value of w for the 69th feature after 10 iterations?"
      ]
    },
    {
      "cell_type": "code",
      "execution_count": null,
      "metadata": {
        "colab": {
          "base_uri": "https://localhost:8080/"
        },
        "id": "kpbDEavrngPo",
        "outputId": "b5901470-bc0c-4738-fb02-727b0d06c77b"
      },
      "outputs": [
        {
          "output_type": "execute_result",
          "data": {
            "text/plain": [
              "605.0"
            ]
          },
          "metadata": {},
          "execution_count": 35
        }
      ],
      "source": [
        "perceptron.coef_.ravel()[69]"
      ]
    },
    {
      "cell_type": "markdown",
      "metadata": {
        "id": "v4bQnfzs47Zm"
      },
      "source": [
        "Q6. With respective to the above question and for the same settings.\n",
        " \n",
        " Which of the following is the sequence of bias (intercept) updates for the first 5 epochs"
      ]
    },
    {
      "cell_type": "code",
      "execution_count": null,
      "metadata": {
        "colab": {
          "base_uri": "https://localhost:8080/"
        },
        "id": "M8vqPEpe4-YB",
        "outputId": "c2d03345-3169-4871-d1c2-3a032442121d"
      },
      "outputs": [
        {
          "output_type": "stream",
          "name": "stderr",
          "text": [
            "/usr/local/lib/python3.7/dist-packages/sklearn/linear_model/_stochastic_gradient.py:700: ConvergenceWarning: Maximum number of iteration reached before convergence. Consider increasing max_iter to improve the fit.\n",
            "  ConvergenceWarning,\n",
            "/usr/local/lib/python3.7/dist-packages/sklearn/linear_model/_stochastic_gradient.py:700: ConvergenceWarning: Maximum number of iteration reached before convergence. Consider increasing max_iter to improve the fit.\n",
            "  ConvergenceWarning,\n",
            "/usr/local/lib/python3.7/dist-packages/sklearn/linear_model/_stochastic_gradient.py:700: ConvergenceWarning: Maximum number of iteration reached before convergence. Consider increasing max_iter to improve the fit.\n",
            "  ConvergenceWarning,\n",
            "/usr/local/lib/python3.7/dist-packages/sklearn/linear_model/_stochastic_gradient.py:700: ConvergenceWarning: Maximum number of iteration reached before convergence. Consider increasing max_iter to improve the fit.\n",
            "  ConvergenceWarning,\n",
            "/usr/local/lib/python3.7/dist-packages/sklearn/linear_model/_stochastic_gradient.py:700: ConvergenceWarning: Maximum number of iteration reached before convergence. Consider increasing max_iter to improve the fit.\n",
            "  ConvergenceWarning,\n"
          ]
        },
        {
          "output_type": "execute_result",
          "data": {
            "text/plain": [
              "[array([-1.]), array([-4.]), array([-4.]), array([-6.]), array([-5.])]"
            ]
          },
          "metadata": {},
          "execution_count": 36
        }
      ],
      "source": [
        "from sklearn.linear_model import Perceptron\n",
        "\n",
        "intercept = []\n",
        "for i in range(1, 6) :\n",
        "  perceptron = Perceptron(eta0=1, max_iter = i, shuffle=False, random_state=1729)\n",
        "  perceptron.fit(s[0], s[1])\n",
        "  intercept.append(perceptron.intercept_)\n",
        "intercept"
      ]
    },
    {
      "cell_type": "markdown",
      "metadata": {
        "id": "lt5Z-e4R69-D"
      },
      "source": [
        "## **GRADED ASSIGNMENT**"
      ]
    },
    {
      "cell_type": "markdown",
      "metadata": {
        "id": "SWt7AiBY7DVB"
      },
      "source": [
        "### **(Common data for all the graded questions)**"
      ]
    },
    {
      "cell_type": "markdown",
      "metadata": {
        "id": "ecVMPzco7Iv2"
      },
      "source": [
        "**From the MNIST dataset, create a new dataset by taking first 10000 images for training and next 2000 images for testing.**\n",
        "\n",
        "**Collect all digit-5 (Positive class) and digit-3 (Negative class) images and stack them properly as a single datamatrix.**\n",
        "\n",
        "**By convention, keep all digit-5 images from index 0 to i followed by digit-3 images from index i+1 to n (i denotes the end index of digit-5 images)\n",
        "Similarly, collect the respective labels and store it in a variable (Do sanity check).**\n",
        "\n",
        "**Set the label values to 1 for positive class and -1 for negative class.**\n",
        "\n",
        "**Instantiate a perceptron classifier with the below parameters**\n",
        "* random_state = 42\n",
        "* learning rate = 1\n",
        "* Train for 100 iterations (epoch)\n",
        "* Should shuffle the dataset for each epoch (iteration)\n",
        "* Include the intercept (bias) term.\n",
        "* No regularization\n",
        "\n",
        "**Use the training set for fitting the perceptron model and use the test data to make the predictions. Answer the below questions.**"
      ]
    },
    {
      "cell_type": "code",
      "execution_count": null,
      "metadata": {
        "id": "2m5sAPBI_0ur"
      },
      "outputs": [],
      "source": [
        "data_train = pd.concat([y_train, X_train], axis = 1)\n",
        "positive = data_train[data_train['class'] == '5'].iloc[:, 1:]\n",
        "negative = data_train[data_train['class'] == '3'].iloc[:, 1:]\n",
        "data = pd.concat([positive, negative])\n",
        "label = np.append(np.ones(positive.shape[0],),(-1 * np.ones(negative.shape[0],)))"
      ]
    },
    {
      "cell_type": "code",
      "execution_count": null,
      "metadata": {
        "colab": {
          "base_uri": "https://localhost:8080/"
        },
        "id": "8bO1LA7BAMLT",
        "outputId": "efb009ea-065b-4d81-a913-33ded5f30483"
      },
      "outputs": [
        {
          "output_type": "execute_result",
          "data": {
            "text/plain": [
              "Perceptron(eta0=1, max_iter=100, random_state=42)"
            ]
          },
          "metadata": {},
          "execution_count": 38
        }
      ],
      "source": [
        "from sklearn.linear_model import Perceptron\n",
        "model = Perceptron(eta0 = 1, max_iter = 100, random_state=42)\n",
        "model.fit(data, label)"
      ]
    },
    {
      "cell_type": "markdown",
      "metadata": {
        "id": "EkLA9tqs76yn"
      },
      "source": [
        "Q1. Which of the following is a pair that gives the number of training samples for digit 5 and digit 3?"
      ]
    },
    {
      "cell_type": "code",
      "execution_count": null,
      "metadata": {
        "colab": {
          "base_uri": "https://localhost:8080/"
        },
        "id": "loGwxbQa79PE",
        "outputId": "8e3d4e9c-ffa8-432e-f8c4-d605950591a6"
      },
      "outputs": [
        {
          "output_type": "execute_result",
          "data": {
            "text/plain": [
              "(863, 1032)"
            ]
          },
          "metadata": {},
          "execution_count": 39
        }
      ],
      "source": [
        "y_train.value_counts()['5'], y_train.value_counts()['3']"
      ]
    },
    {
      "cell_type": "markdown",
      "metadata": {
        "id": "umvf4h2Q8BK1"
      },
      "source": [
        "Q2. Obtain confusion matrix for the test samples and the predicted samples. How many True Positives are there?"
      ]
    },
    {
      "cell_type": "code",
      "execution_count": null,
      "metadata": {
        "colab": {
          "base_uri": "https://localhost:8080/",
          "height": 297
        },
        "id": "6q17V8HZ8Ecj",
        "outputId": "5c8ec4d3-356f-4b53-d177-13648153430a"
      },
      "outputs": [
        {
          "output_type": "execute_result",
          "data": {
            "text/plain": [
              "<sklearn.metrics._plot.confusion_matrix.ConfusionMatrixDisplay at 0x7fb8077ffa50>"
            ]
          },
          "metadata": {},
          "execution_count": 40
        },
        {
          "output_type": "display_data",
          "data": {
            "text/plain": [
              "<Figure size 432x288 with 2 Axes>"
            ],
            "image/png": "[encoded data removed]"
          },
          "metadata": {
            "needs_background": "light"
          }
        }
      ],
      "source": [
        "data_test = pd.concat([y_test, X_test], axis = 1)\n",
        "posi = data_test[data_test['class'] == '5'].iloc[:, 1:]\n",
        "nega = data_test[data_test['class'] == '3'].iloc[:, 1:]\n",
        "data_test = pd.concat([posi, nega])\n",
        "label_test = np.append(np.ones(posi.shape[0],),(-1 * np.ones(nega.shape[0],)))\n",
        "\n",
        "label_predicted = model.predict(data_test)\n",
        "\n",
        "from sklearn.metrics import confusion_matrix, ConfusionMatrixDisplay\n",
        "cm = confusion_matrix(label_test, label_predicted)\n",
        "ConfusionMatrixDisplay(confusion_matrix=cm,display_labels = model.classes_).plot()"
      ]
    },
    {
      "cell_type": "markdown",
      "metadata": {
        "id": "p-tJo_cn8E1c"
      },
      "source": [
        "Q3. From the confusion matrix, answer how many True Negatives are there?"
      ]
    },
    {
      "cell_type": "markdown",
      "metadata": {
        "id": "at4O36Th8Hda"
      },
      "source": [
        "Q4. From the confusion matrix, answer how many False Negatives are there?"
      ]
    },
    {
      "cell_type": "markdown",
      "metadata": {
        "id": "9Z84rsVB8NLi"
      },
      "source": [
        "Q5. From the confusion matrix, answer how many False Positives are there?"
      ]
    },
    {
      "cell_type": "markdown",
      "source": [
        "Refer cm for Q3-5"
      ],
      "metadata": {
        "id": "W8I-wIuUDPm8"
      }
    },
    {
      "cell_type": "markdown",
      "metadata": {
        "id": "nKTeY5188Une"
      },
      "source": [
        "Q6. In the same model setup just change the shuffle parameter to False, refit the classifier on training data, make predictions on test data and observe the accuracy, precision score and recall score. Which of the following statements are True based on your observations?"
      ]
    },
    {
      "cell_type": "code",
      "execution_count": null,
      "metadata": {
        "colab": {
          "base_uri": "https://localhost:8080/"
        },
        "id": "N9Xczz8p8WdM",
        "outputId": "c12c286d-f035-49eb-a7fc-c2a4af8ca484"
      },
      "outputs": [
        {
          "output_type": "stream",
          "name": "stdout",
          "text": [
            "old scores 0.952755905511811 0.9664804469273743 0.9351351351351351\n",
            "new scores 0.5485564304461942 1.0 0.07027027027027027\n"
          ]
        }
      ],
      "source": [
        "model_sf = Perceptron(eta0=1, max_iter=100, random_state=42, shuffle = False)\n",
        "model_sf.fit(data, label)\n",
        "label_predicted_sf = model_sf.predict(data_test)\n",
        "\n",
        "from sklearn.metrics import accuracy_score, precision_score, recall_score\n",
        "print('old scores', accuracy_score(label_test, label_predicted), precision_score(label_test, label_predicted), recall_score(label_test, label_predicted))\n",
        "print('new scores', accuracy_score(label_test, label_predicted_sf), precision_score(label_test, label_predicted_sf), recall_score(label_test, label_predicted_sf))\n"
      ]
    },
    {
      "cell_type": "markdown",
      "metadata": {
        "id": "tZPFUOeE8W00"
      },
      "source": [
        "Q7. Apply linear PCA and reduce the dimension of the datapoints to 10. Set n_components=10, random_state=1 for PCA. Train perceptron classifier with same settings (shuffle = True) and use the trained model to make predictions on test data. Which of the following option gives the correct values inferred from confusion matrix?"
      ]
    },
    {
      "cell_type": "code",
      "execution_count": null,
      "metadata": {
        "colab": {
          "base_uri": "https://localhost:8080/",
          "height": 297
        },
        "id": "d48UyvYy8bVy",
        "outputId": "1ea6d486-7cdc-4ca5-a522-088a2e2ab21f"
      },
      "outputs": [
        {
          "output_type": "execute_result",
          "data": {
            "text/plain": [
              "<sklearn.metrics._plot.confusion_matrix.ConfusionMatrixDisplay at 0x7fb8077ccb50>"
            ]
          },
          "metadata": {},
          "execution_count": 42
        },
        {
          "output_type": "display_data",
          "data": {
            "text/plain": [
              "<Figure size 432x288 with 2 Axes>"
            ],
            "image/png": "[encoded data removed]"
          },
          "metadata": {
            "needs_background": "light"
          }
        }
      ],
      "source": [
        "# Pipeline method and non pipeline based method are producing different results\n",
        "\n",
        "# Pipeline method\n",
        "\n",
        "from sklearn.pipeline import Pipeline\n",
        "from sklearn.decomposition import PCA\n",
        "pipeline = Pipeline([('pca', PCA(n_components = 10, random_state = 1)),\n",
        "                     ('perceptron', Perceptron(eta0=1, max_iter=100, random_state=42))])\n",
        "\n",
        "pipeline.fit(data, label)\n",
        "pca_label_test = pipeline.predict(data_test)\n",
        "\n",
        "cm = confusion_matrix(label_test, pca_label_test)\n",
        "ConfusionMatrixDisplay(confusion_matrix=cm,display_labels = model.classes_).plot()"
      ]
    },
    {
      "cell_type": "code",
      "source": [
        "# Non-pipeline method\n",
        "\n",
        "from sklearn.decomposition import PCA\n",
        "pca = PCA(n_components = 10, random_state = 1)\n",
        "X_train_pca = pca.fit_transform(data)\n",
        "X_test_pca = pca.fit_transform(data_test)\n",
        "\n",
        "perceptron = Perceptron(eta0=1, max_iter=100, random_state=42)\n",
        "\n",
        "perceptron.fit(X_train_pca, label)\n",
        "perceptron_label_test = perceptron.predict(X_test_pca)\n",
        "\n",
        "cm = confusion_matrix(label_test, perceptron_label_test)\n",
        "ConfusionMatrixDisplay(confusion_matrix=cm,display_labels = model.classes_).plot()"
      ],
      "metadata": {
        "colab": {
          "base_uri": "https://localhost:8080/",
          "height": 297
        },
        "id": "HUSyDBiMlauy",
        "outputId": "c2335131-803c-48b1-f367-d9d1da0780cf"
      },
      "execution_count": null,
      "outputs": [
        {
          "output_type": "execute_result",
          "data": {
            "text/plain": [
              "<sklearn.metrics._plot.confusion_matrix.ConfusionMatrixDisplay at 0x7fb80a8ed290>"
            ]
          },
          "metadata": {},
          "execution_count": 45
        },
        {
          "output_type": "display_data",
          "data": {
            "text/plain": [
              "<Figure size 432x288 with 2 Axes>"
            ],
            "image/png": "[encoded data removed]"
          },
          "metadata": {
            "needs_background": "light"
          }
        }
      ]
    },
    {
      "cell_type": "markdown",
      "metadata": {
        "id": "RLGz3Y8H8bsD"
      },
      "source": [
        "Q8. Which of the following option gives the correct values for (accuracy_score, precision_score, recall_score)?"
      ]
    },
    {
      "cell_type": "code",
      "execution_count": null,
      "metadata": {
        "colab": {
          "base_uri": "https://localhost:8080/"
        },
        "id": "_0qNFrGv8f8x",
        "outputId": "6da5ac2c-06ab-4d47-ee13-eaf073de91b8"
      },
      "outputs": [
        {
          "output_type": "stream",
          "name": "stdout",
          "text": [
            "new scores 0.5721784776902887 0.5654761904761905 0.5135135135135135\n"
          ]
        }
      ],
      "source": [
        "print('new scores', accuracy_score(label_test, perceptron_label_test), precision_score(label_test, perceptron_label_test), recall_score(label_test, perceptron_label_test))\n"
      ]
    },
    {
      "cell_type": "markdown",
      "metadata": {
        "id": "TigMXyH-8gRJ"
      },
      "source": [
        "Q9. In the same model setup after PCA reduction, now provide L2 regularization by setting penalty = 'l2' and regularization parameter value alpha = 0.01, refit the classifier on training data, make predictions on test data and observe the accuracy, precision score and recall score. Does regularization improved the accuracy, precision and recall score of the model?"
      ]
    },
    {
      "cell_type": "code",
      "execution_count": null,
      "metadata": {
        "id": "Lvtdcj-C8ljQ"
      },
      "outputs": [],
      "source": [
        "from sklearn.decomposition import PCA\n",
        "pca = PCA(n_components = 10, random_state = 1)\n",
        "X_train_pca = pca.fit_transform(data)\n",
        "X_test_pca = pca.fit_transform(data_test)\n",
        "\n",
        "perceptron = Perceptron(eta0=1, max_iter=100, random_state=42, penalty = 'l2', alpha = 0.01)\n",
        "\n",
        "perceptron.fit(X_train_pca, label)\n",
        "perceptron_label_test = perceptron.predict(X_test_pca)"
      ]
    },
    {
      "cell_type": "code",
      "source": [
        "print('new scores', accuracy_score(label_test, perceptron_label_test), precision_score(label_test, perceptron_label_test), recall_score(label_test, perceptron_label_test))"
      ],
      "metadata": {
        "colab": {
          "base_uri": "https://localhost:8080/"
        },
        "id": "waoYQeEIuB0t",
        "outputId": "5f9e1b03-a1bc-4b54-df3c-ca8dc1daa539"
      },
      "execution_count": null,
      "outputs": [
        {
          "output_type": "stream",
          "name": "stdout",
          "text": [
            "new scores 0.31758530183727035 0.2781065088757396 0.25405405405405407\n"
          ]
        }
      ]
    },
    {
      "cell_type": "markdown",
      "metadata": {
        "id": "-r8JZyWv8l3L"
      },
      "source": [
        "Q10. In the same model setup after PCA reduction, now provide L1 regularization by setting penalty = 'l1' and regularization parameter value alpha = 0.01, refit the classifier on training data, make predictions on test data and observe the accuracy, precision score and recall score. Does L1 regularization improve the accuracy, precision and recall score compared to L2 regularization?"
      ]
    },
    {
      "cell_type": "code",
      "execution_count": null,
      "metadata": {
        "id": "zD1L7-ru8p1f"
      },
      "outputs": [],
      "source": [
        "from sklearn.decomposition import PCA\n",
        "pca = PCA(n_components = 10, random_state = 1)\n",
        "X_train_pca = pca.fit_transform(data)\n",
        "X_test_pca = pca.fit_transform(data_test)\n",
        "\n",
        "perceptron = Perceptron(eta0=1, max_iter=100, random_state=42, penalty = 'l1', alpha = 0.01)\n",
        "\n",
        "perceptron.fit(X_train_pca, label)\n",
        "perceptron_label_test = perceptron.predict(X_test_pca)"
      ]
    },
    {
      "cell_type": "code",
      "source": [
        "print('new scores', accuracy_score(label_test, perceptron_label_test), precision_score(label_test, perceptron_label_test), recall_score(label_test, perceptron_label_test))"
      ],
      "metadata": {
        "id": "Rpa1An5auJqP",
        "outputId": "3c9afa76-5f6c-4ea1-f0a5-9244bf814911",
        "colab": {
          "base_uri": "https://localhost:8080/"
        }
      },
      "execution_count": null,
      "outputs": [
        {
          "output_type": "stream",
          "name": "stdout",
          "text": [
            "new scores 0.5800524934383202 0.577639751552795 0.5027027027027027\n"
          ]
        }
      ]
    }
  ],
  "metadata": {
    "colab": {
      "provenance": []
    },
    "kernelspec": {
      "display_name": "Python 3",
      "name": "python3"
    },
    "language_info": {
      "name": "python"
    }
  },
  "nbformat": 4,
  "nbformat_minor": 0
}