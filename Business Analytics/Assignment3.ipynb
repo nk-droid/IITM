{
  "cells": [
    {
      "cell_type": "code",
      "execution_count": null,
      "metadata": {
        "id": "mt1eBJj7YONN"
      },
      "outputs": [],
      "source": [
        "import pandas as pd\n",
        "import numpy as np"
      ]
    },
    {
      "attachments": {},
      "cell_type": "markdown",
      "metadata": {
        "id": "y7KGjmOcUdLb"
      },
      "source": [
        "**CASE: Flash Cycles Targeted Mailing**\n",
        "\n",
        "Flash Cycles, is a large, multinational manufacturing company. The company manufactures and sells metal and composite bicycles to North American, European and Asian commercial markets. While its base operation is located in Bothell, Washington with 290 employees, several regional sales teams are located throughout their market base.\n",
        "\n",
        "In 2000, Adventure Works Cycles bought a small manufacturing plant, Importadores Neptuno, located in Mexico. Importadores Neptuno manufactures several critical subcomponents for the Flash Cycles product line. These subcomponents are shipped to the Bothell location for final product assembly. In 2001, Importadores Neptuno, became the sole manufacturer and distributor of the touring bicycle product group. Currently, there are four product lines: Mountain, Road, Sport and Touring. \n",
        "\n",
        "The marketing department of Flash Cycles wants to increase sales by targeting specific customers for a mailing campaign. By investigating the attributes of known customers, the company hopes to discover patterns that they can then apply to potential customers. They hope to use the discovered patterns to predict which prospective customers are most likely to purchase a product from the company.\n",
        "\n",
        "DATA SET: Cyclebuyer.csv\n",
        "The company's data warehouse, Flash Cycles DW, contains a list of past customers with their demographic data (TargetMail) with attributes such as ‘Cyclebuyer’, ‘MaritalStatus', 'YearlyIncome', 'TotalChildren', 'ChildrenAtHome', 'HouseOwnerFlag', 'NumberCarsOwned', 'Age'.\n",
        "\n",
        "Please follow the instructions given below to complete your assignment.\n",
        "\n",
        "i. Do not try feature engineering on the dataset as it will modify the answers\n",
        "\n",
        "ii. Just Load the [train_LR.csv](https://drive.google.com/file/d/1wezBl6uA3zKD3YiEYUABkIs460LCJW2r/view)\n",
        "\n",
        "iii. Create the dependent and independent variables for the training module (X_train, y_train)\n",
        "\n",
        "iv. Similarly load the [test_LR.csv](https://drive.google.com/file/d/1ZeJw9YgszPRg583OrEBk1SRmrOv8_9je/view)\n",
        "\n",
        "v. Create the dependent and independent variables for the test module (X_test, y_test)\n",
        "\n",
        "vi. Run LogisticRegression() from sklearn module in default setup and predict cycle buyer as target (positives).\n",
        "\n",
        "vii. Fit the model on X_train and y_train\n",
        "\n",
        "viii. Do not try any hyper-prameter tuning on the model as it will modify the answers\n",
        "\n",
        "ix. Predict on the X_train using the Logistic Regression model and store the predictions in y_pred_train\n",
        "\n",
        "x. Predict on the X_test using the Logistic Regression model and store the predictions in y_pred_test\n",
        "\n",
        "xi. Print the classification report for training and test data predictions\n",
        "\n",
        "xii. Create the confusion matrix for test data\n",
        "\n",
        "---"
      ]
    },
    {
      "cell_type": "code",
      "execution_count": null,
      "metadata": {
        "colab": {
          "base_uri": "https://localhost:8080/",
          "height": 206
        },
        "id": "Xt0WEkgZbcqp",
        "outputId": "7689ebde-c3da-4a1f-f61b-0cf44f97cfcc"
      },
      "outputs": [
        {
          "data": {
            "text/html": [
              "\n",
              "  <div id=\"df-a63e83a7-7ac0-4eae-8288-55c569259e72\">\n",
              "    <div class=\"colab-df-container\">\n",
              "      <div>\n",
              "<style scoped>\n",
              "    .dataframe tbody tr th:only-of-type {\n",
              "        vertical-align: middle;\n",
              "    }\n",
              "\n",
              "    .dataframe tbody tr th {\n",
              "        vertical-align: top;\n",
              "    }\n",
              "\n",
              "    .dataframe thead th {\n",
              "        text-align: right;\n",
              "    }\n",
              "</style>\n",
              "<table border=\"1\" class=\"dataframe\">\n",
              "  <thead>\n",
              "    <tr style=\"text-align: right;\">\n",
              "      <th></th>\n",
              "      <th>MaritalStatus</th>\n",
              "      <th>YearlyIncome</th>\n",
              "      <th>TotalChildren</th>\n",
              "      <th>ChildrenAtHome</th>\n",
              "      <th>HouseOwnerFlag</th>\n",
              "      <th>NumberCarsOwned</th>\n",
              "      <th>Age</th>\n",
              "      <th>CycleBuyer</th>\n",
              "    </tr>\n",
              "  </thead>\n",
              "  <tbody>\n",
              "    <tr>\n",
              "      <th>0</th>\n",
              "      <td>1</td>\n",
              "      <td>130000</td>\n",
              "      <td>4</td>\n",
              "      <td>5</td>\n",
              "      <td>1</td>\n",
              "      <td>4</td>\n",
              "      <td>63</td>\n",
              "      <td>0</td>\n",
              "    </tr>\n",
              "    <tr>\n",
              "      <th>1</th>\n",
              "      <td>1</td>\n",
              "      <td>110000</td>\n",
              "      <td>1</td>\n",
              "      <td>1</td>\n",
              "      <td>1</td>\n",
              "      <td>4</td>\n",
              "      <td>54</td>\n",
              "      <td>0</td>\n",
              "    </tr>\n",
              "    <tr>\n",
              "      <th>2</th>\n",
              "      <td>1</td>\n",
              "      <td>60000</td>\n",
              "      <td>2</td>\n",
              "      <td>0</td>\n",
              "      <td>0</td>\n",
              "      <td>2</td>\n",
              "      <td>56</td>\n",
              "      <td>0</td>\n",
              "    </tr>\n",
              "    <tr>\n",
              "      <th>3</th>\n",
              "      <td>1</td>\n",
              "      <td>70000</td>\n",
              "      <td>5</td>\n",
              "      <td>4</td>\n",
              "      <td>1</td>\n",
              "      <td>3</td>\n",
              "      <td>53</td>\n",
              "      <td>0</td>\n",
              "    </tr>\n",
              "    <tr>\n",
              "      <th>4</th>\n",
              "      <td>0</td>\n",
              "      <td>90000</td>\n",
              "      <td>3</td>\n",
              "      <td>2</td>\n",
              "      <td>0</td>\n",
              "      <td>1</td>\n",
              "      <td>58</td>\n",
              "      <td>0</td>\n",
              "    </tr>\n",
              "  </tbody>\n",
              "</table>\n",
              "</div>\n",
              "      <button class=\"colab-df-convert\" onclick=\"convertToInteractive('df-a63e83a7-7ac0-4eae-8288-55c569259e72')\"\n",
              "              title=\"Convert this dataframe to an interactive table.\"\n",
              "              style=\"display:none;\">\n",
              "        \n",
              "  <svg xmlns=\"http://www.w3.org/2000/svg\" height=\"24px\"viewBox=\"0 0 24 24\"\n",
              "       width=\"24px\">\n",
              "    <path d=\"M0 0h24v24H0V0z\" fill=\"none\"/>\n",
              "    <path d=\"M18.56 5.44l.94 2.06.94-2.06 2.06-.94-2.06-.94-.94-2.06-.94 2.06-2.06.94zm-11 1L8.5 8.5l.94-2.06 2.06-.94-2.06-.94L8.5 2.5l-.94 2.06-2.06.94zm10 10l.94 2.06.94-2.06 2.06-.94-2.06-.94-.94-2.06-.94 2.06-2.06.94z\"/><path d=\"M17.41 7.96l-1.37-1.37c-.4-.4-.92-.59-1.43-.59-.52 0-1.04.2-1.43.59L10.3 9.45l-7.72 7.72c-.78.78-.78 2.05 0 2.83L4 21.41c.39.39.9.59 1.41.59.51 0 1.02-.2 1.41-.59l7.78-7.78 2.81-2.81c.8-.78.8-2.07 0-2.86zM5.41 20L4 18.59l7.72-7.72 1.47 1.35L5.41 20z\"/>\n",
              "  </svg>\n",
              "      </button>\n",
              "      \n",
              "  <style>\n",
              "    .colab-df-container {\n",
              "      display:flex;\n",
              "      flex-wrap:wrap;\n",
              "      gap: 12px;\n",
              "    }\n",
              "\n",
              "    .colab-df-convert {\n",
              "      background-color: #E8F0FE;\n",
              "      border: none;\n",
              "      border-radius: 50%;\n",
              "      cursor: pointer;\n",
              "      display: none;\n",
              "      fill: #1967D2;\n",
              "      height: 32px;\n",
              "      padding: 0 0 0 0;\n",
              "      width: 32px;\n",
              "    }\n",
              "\n",
              "    .colab-df-convert:hover {\n",
              "      background-color: #E2EBFA;\n",
              "      box-shadow: 0px 1px 2px rgba(60, 64, 67, 0.3), 0px 1px 3px 1px rgba(60, 64, 67, 0.15);\n",
              "      fill: #174EA6;\n",
              "    }\n",
              "\n",
              "    [theme=dark] .colab-df-convert {\n",
              "      background-color: #3B4455;\n",
              "      fill: #D2E3FC;\n",
              "    }\n",
              "\n",
              "    [theme=dark] .colab-df-convert:hover {\n",
              "      background-color: #434B5C;\n",
              "      box-shadow: 0px 1px 3px 1px rgba(0, 0, 0, 0.15);\n",
              "      filter: drop-shadow(0px 1px 2px rgba(0, 0, 0, 0.3));\n",
              "      fill: #FFFFFF;\n",
              "    }\n",
              "  </style>\n",
              "\n",
              "      <script>\n",
              "        const buttonEl =\n",
              "          document.querySelector('#df-a63e83a7-7ac0-4eae-8288-55c569259e72 button.colab-df-convert');\n",
              "        buttonEl.style.display =\n",
              "          google.colab.kernel.accessAllowed ? 'block' : 'none';\n",
              "\n",
              "        async function convertToInteractive(key) {\n",
              "          const element = document.querySelector('#df-a63e83a7-7ac0-4eae-8288-55c569259e72');\n",
              "          const dataTable =\n",
              "            await google.colab.kernel.invokeFunction('convertToInteractive',\n",
              "                                                     [key], {});\n",
              "          if (!dataTable) return;\n",
              "\n",
              "          const docLinkHtml = 'Like what you see? Visit the ' +\n",
              "            '<a target=\"_blank\" href=https://colab.research.google.com/notebooks/data_table.ipynb>data table notebook</a>'\n",
              "            + ' to learn more about interactive tables.';\n",
              "          element.innerHTML = '';\n",
              "          dataTable['output_type'] = 'display_data';\n",
              "          await google.colab.output.renderOutput(dataTable, element);\n",
              "          const docLink = document.createElement('div');\n",
              "          docLink.innerHTML = docLinkHtml;\n",
              "          element.appendChild(docLink);\n",
              "        }\n",
              "      </script>\n",
              "    </div>\n",
              "  </div>\n",
              "  "
            ],
            "text/plain": [
              "   MaritalStatus  YearlyIncome  TotalChildren  ChildrenAtHome  HouseOwnerFlag  \\\n",
              "0              1        130000              4               5               1   \n",
              "1              1        110000              1               1               1   \n",
              "2              1         60000              2               0               0   \n",
              "3              1         70000              5               4               1   \n",
              "4              0         90000              3               2               0   \n",
              "\n",
              "   NumberCarsOwned  Age  CycleBuyer  \n",
              "0                4   63           0  \n",
              "1                4   54           0  \n",
              "2                2   56           0  \n",
              "3                3   53           0  \n",
              "4                1   58           0  "
            ]
          },
          "execution_count": 3,
          "metadata": {},
          "output_type": "execute_result"
        }
      ],
      "source": [
        "train_data = pd.read_csv(\"/content/drive/MyDrive/Assignment_files/BA/Assignment3_train_LR.csv\")\n",
        "train_data.head()"
      ]
    },
    {
      "cell_type": "code",
      "execution_count": null,
      "metadata": {
        "colab": {
          "base_uri": "https://localhost:8080/"
        },
        "id": "INIcTxDlcnpl",
        "outputId": "2218b46f-d1ed-4dad-e095-a228c656ef95"
      },
      "outputs": [
        {
          "name": "stdout",
          "output_type": "stream",
          "text": [
            "<class 'pandas.core.frame.DataFrame'>\n",
            "RangeIndex: 12384 entries, 0 to 12383\n",
            "Data columns (total 8 columns):\n",
            " #   Column           Non-Null Count  Dtype\n",
            "---  ------           --------------  -----\n",
            " 0   MaritalStatus    12384 non-null  int64\n",
            " 1   YearlyIncome     12384 non-null  int64\n",
            " 2   TotalChildren    12384 non-null  int64\n",
            " 3   ChildrenAtHome   12384 non-null  int64\n",
            " 4   HouseOwnerFlag   12384 non-null  int64\n",
            " 5   NumberCarsOwned  12384 non-null  int64\n",
            " 6   Age              12384 non-null  int64\n",
            " 7   CycleBuyer       12384 non-null  int64\n",
            "dtypes: int64(8)\n",
            "memory usage: 774.1 KB\n"
          ]
        }
      ],
      "source": [
        "train_data.info()"
      ]
    },
    {
      "cell_type": "code",
      "execution_count": null,
      "metadata": {
        "colab": {
          "base_uri": "https://localhost:8080/",
          "height": 206
        },
        "id": "tGhfeInLb9nc",
        "outputId": "fe8112b8-8aad-4e40-9d3e-3e622508d5a9"
      },
      "outputs": [
        {
          "data": {
            "text/html": [
              "\n",
              "  <div id=\"df-ccc4be7c-7981-4ae3-8b36-b767fdb9c2c5\">\n",
              "    <div class=\"colab-df-container\">\n",
              "      <div>\n",
              "<style scoped>\n",
              "    .dataframe tbody tr th:only-of-type {\n",
              "        vertical-align: middle;\n",
              "    }\n",
              "\n",
              "    .dataframe tbody tr th {\n",
              "        vertical-align: top;\n",
              "    }\n",
              "\n",
              "    .dataframe thead th {\n",
              "        text-align: right;\n",
              "    }\n",
              "</style>\n",
              "<table border=\"1\" class=\"dataframe\">\n",
              "  <thead>\n",
              "    <tr style=\"text-align: right;\">\n",
              "      <th></th>\n",
              "      <th>MaritalStatus</th>\n",
              "      <th>YearlyIncome</th>\n",
              "      <th>TotalChildren</th>\n",
              "      <th>ChildrenAtHome</th>\n",
              "      <th>HouseOwnerFlag</th>\n",
              "      <th>NumberCarsOwned</th>\n",
              "      <th>Age</th>\n",
              "      <th>CycleBuyer</th>\n",
              "    </tr>\n",
              "  </thead>\n",
              "  <tbody>\n",
              "    <tr>\n",
              "      <th>0</th>\n",
              "      <td>1</td>\n",
              "      <td>70000</td>\n",
              "      <td>4</td>\n",
              "      <td>2</td>\n",
              "      <td>1</td>\n",
              "      <td>1</td>\n",
              "      <td>62</td>\n",
              "      <td>0</td>\n",
              "    </tr>\n",
              "    <tr>\n",
              "      <th>1</th>\n",
              "      <td>0</td>\n",
              "      <td>30000</td>\n",
              "      <td>4</td>\n",
              "      <td>0</td>\n",
              "      <td>0</td>\n",
              "      <td>2</td>\n",
              "      <td>66</td>\n",
              "      <td>0</td>\n",
              "    </tr>\n",
              "    <tr>\n",
              "      <th>2</th>\n",
              "      <td>0</td>\n",
              "      <td>10000</td>\n",
              "      <td>2</td>\n",
              "      <td>2</td>\n",
              "      <td>1</td>\n",
              "      <td>0</td>\n",
              "      <td>43</td>\n",
              "      <td>0</td>\n",
              "    </tr>\n",
              "    <tr>\n",
              "      <th>3</th>\n",
              "      <td>1</td>\n",
              "      <td>70000</td>\n",
              "      <td>4</td>\n",
              "      <td>0</td>\n",
              "      <td>0</td>\n",
              "      <td>0</td>\n",
              "      <td>43</td>\n",
              "      <td>1</td>\n",
              "    </tr>\n",
              "    <tr>\n",
              "      <th>4</th>\n",
              "      <td>1</td>\n",
              "      <td>30000</td>\n",
              "      <td>0</td>\n",
              "      <td>0</td>\n",
              "      <td>1</td>\n",
              "      <td>2</td>\n",
              "      <td>34</td>\n",
              "      <td>0</td>\n",
              "    </tr>\n",
              "  </tbody>\n",
              "</table>\n",
              "</div>\n",
              "      <button class=\"colab-df-convert\" onclick=\"convertToInteractive('df-ccc4be7c-7981-4ae3-8b36-b767fdb9c2c5')\"\n",
              "              title=\"Convert this dataframe to an interactive table.\"\n",
              "              style=\"display:none;\">\n",
              "        \n",
              "  <svg xmlns=\"http://www.w3.org/2000/svg\" height=\"24px\"viewBox=\"0 0 24 24\"\n",
              "       width=\"24px\">\n",
              "    <path d=\"M0 0h24v24H0V0z\" fill=\"none\"/>\n",
              "    <path d=\"M18.56 5.44l.94 2.06.94-2.06 2.06-.94-2.06-.94-.94-2.06-.94 2.06-2.06.94zm-11 1L8.5 8.5l.94-2.06 2.06-.94-2.06-.94L8.5 2.5l-.94 2.06-2.06.94zm10 10l.94 2.06.94-2.06 2.06-.94-2.06-.94-.94-2.06-.94 2.06-2.06.94z\"/><path d=\"M17.41 7.96l-1.37-1.37c-.4-.4-.92-.59-1.43-.59-.52 0-1.04.2-1.43.59L10.3 9.45l-7.72 7.72c-.78.78-.78 2.05 0 2.83L4 21.41c.39.39.9.59 1.41.59.51 0 1.02-.2 1.41-.59l7.78-7.78 2.81-2.81c.8-.78.8-2.07 0-2.86zM5.41 20L4 18.59l7.72-7.72 1.47 1.35L5.41 20z\"/>\n",
              "  </svg>\n",
              "      </button>\n",
              "      \n",
              "  <style>\n",
              "    .colab-df-container {\n",
              "      display:flex;\n",
              "      flex-wrap:wrap;\n",
              "      gap: 12px;\n",
              "    }\n",
              "\n",
              "    .colab-df-convert {\n",
              "      background-color: #E8F0FE;\n",
              "      border: none;\n",
              "      border-radius: 50%;\n",
              "      cursor: pointer;\n",
              "      display: none;\n",
              "      fill: #1967D2;\n",
              "      height: 32px;\n",
              "      padding: 0 0 0 0;\n",
              "      width: 32px;\n",
              "    }\n",
              "\n",
              "    .colab-df-convert:hover {\n",
              "      background-color: #E2EBFA;\n",
              "      box-shadow: 0px 1px 2px rgba(60, 64, 67, 0.3), 0px 1px 3px 1px rgba(60, 64, 67, 0.15);\n",
              "      fill: #174EA6;\n",
              "    }\n",
              "\n",
              "    [theme=dark] .colab-df-convert {\n",
              "      background-color: #3B4455;\n",
              "      fill: #D2E3FC;\n",
              "    }\n",
              "\n",
              "    [theme=dark] .colab-df-convert:hover {\n",
              "      background-color: #434B5C;\n",
              "      box-shadow: 0px 1px 3px 1px rgba(0, 0, 0, 0.15);\n",
              "      filter: drop-shadow(0px 1px 2px rgba(0, 0, 0, 0.3));\n",
              "      fill: #FFFFFF;\n",
              "    }\n",
              "  </style>\n",
              "\n",
              "      <script>\n",
              "        const buttonEl =\n",
              "          document.querySelector('#df-ccc4be7c-7981-4ae3-8b36-b767fdb9c2c5 button.colab-df-convert');\n",
              "        buttonEl.style.display =\n",
              "          google.colab.kernel.accessAllowed ? 'block' : 'none';\n",
              "\n",
              "        async function convertToInteractive(key) {\n",
              "          const element = document.querySelector('#df-ccc4be7c-7981-4ae3-8b36-b767fdb9c2c5');\n",
              "          const dataTable =\n",
              "            await google.colab.kernel.invokeFunction('convertToInteractive',\n",
              "                                                     [key], {});\n",
              "          if (!dataTable) return;\n",
              "\n",
              "          const docLinkHtml = 'Like what you see? Visit the ' +\n",
              "            '<a target=\"_blank\" href=https://colab.research.google.com/notebooks/data_table.ipynb>data table notebook</a>'\n",
              "            + ' to learn more about interactive tables.';\n",
              "          element.innerHTML = '';\n",
              "          dataTable['output_type'] = 'display_data';\n",
              "          await google.colab.output.renderOutput(dataTable, element);\n",
              "          const docLink = document.createElement('div');\n",
              "          docLink.innerHTML = docLinkHtml;\n",
              "          element.appendChild(docLink);\n",
              "        }\n",
              "      </script>\n",
              "    </div>\n",
              "  </div>\n",
              "  "
            ],
            "text/plain": [
              "   MaritalStatus  YearlyIncome  TotalChildren  ChildrenAtHome  HouseOwnerFlag  \\\n",
              "0              1         70000              4               2               1   \n",
              "1              0         30000              4               0               0   \n",
              "2              0         10000              2               2               1   \n",
              "3              1         70000              4               0               0   \n",
              "4              1         30000              0               0               1   \n",
              "\n",
              "   NumberCarsOwned  Age  CycleBuyer  \n",
              "0                1   62           0  \n",
              "1                2   66           0  \n",
              "2                0   43           0  \n",
              "3                0   43           1  \n",
              "4                2   34           0  "
            ]
          },
          "execution_count": 4,
          "metadata": {},
          "output_type": "execute_result"
        }
      ],
      "source": [
        "test_data = pd.read_csv(\"/content/drive/MyDrive/Assignment_files/BA/Assignment3_test_LR.csv\")\n",
        "test_data.head()"
      ]
    },
    {
      "cell_type": "code",
      "execution_count": null,
      "metadata": {
        "colab": {
          "base_uri": "https://localhost:8080/"
        },
        "id": "ocbcfMbHcv82",
        "outputId": "db475999-06e7-481c-f47e-1801890ecd35"
      },
      "outputs": [
        {
          "name": "stdout",
          "output_type": "stream",
          "text": [
            "<class 'pandas.core.frame.DataFrame'>\n",
            "RangeIndex: 12384 entries, 0 to 12383\n",
            "Data columns (total 8 columns):\n",
            " #   Column           Non-Null Count  Dtype\n",
            "---  ------           --------------  -----\n",
            " 0   MaritalStatus    12384 non-null  int64\n",
            " 1   YearlyIncome     12384 non-null  int64\n",
            " 2   TotalChildren    12384 non-null  int64\n",
            " 3   ChildrenAtHome   12384 non-null  int64\n",
            " 4   HouseOwnerFlag   12384 non-null  int64\n",
            " 5   NumberCarsOwned  12384 non-null  int64\n",
            " 6   Age              12384 non-null  int64\n",
            " 7   CycleBuyer       12384 non-null  int64\n",
            "dtypes: int64(8)\n",
            "memory usage: 774.1 KB\n"
          ]
        }
      ],
      "source": [
        "train_data.info()"
      ]
    },
    {
      "attachments": {},
      "cell_type": "markdown",
      "metadata": {
        "id": "b7Sc1kB9f9YQ"
      },
      "source": [
        "## **Based on the modelling exercise, answer the following questions.**"
      ]
    },
    {
      "attachments": {},
      "cell_type": "markdown",
      "metadata": {
        "id": "GOWf8kCmUy9e"
      },
      "source": [
        "### Q1. How many observations are available in the training data?"
      ]
    },
    {
      "cell_type": "code",
      "execution_count": null,
      "metadata": {
        "colab": {
          "base_uri": "https://localhost:8080/"
        },
        "id": "-dLZsI96cW7-",
        "outputId": "fc227629-2360-4b1c-a26e-04576b763127"
      },
      "outputs": [
        {
          "data": {
            "text/plain": [
              "12384"
            ]
          },
          "execution_count": 5,
          "metadata": {},
          "output_type": "execute_result"
        }
      ],
      "source": [
        "train_data.shape[0]"
      ]
    },
    {
      "attachments": {},
      "cell_type": "markdown",
      "metadata": {
        "id": "3-KKsZdAU1G6"
      },
      "source": [
        "### Q2. How many observations are available in the test data?"
      ]
    },
    {
      "cell_type": "code",
      "execution_count": null,
      "metadata": {
        "colab": {
          "base_uri": "https://localhost:8080/"
        },
        "id": "ZNf56K5mcaKr",
        "outputId": "090d573f-dbf0-4d4e-8845-7eef4b854b63"
      },
      "outputs": [
        {
          "data": {
            "text/plain": [
              "6100"
            ]
          },
          "execution_count": 6,
          "metadata": {},
          "output_type": "execute_result"
        }
      ],
      "source": [
        "test_data.shape[0]"
      ]
    },
    {
      "attachments": {},
      "cell_type": "markdown",
      "metadata": {
        "id": "wRMK_Y2BU5jp"
      },
      "source": [
        "### Q3. What is the proportion of customers who have not bought cycles in the training dataset?"
      ]
    },
    {
      "cell_type": "code",
      "execution_count": null,
      "metadata": {
        "colab": {
          "base_uri": "https://localhost:8080/"
        },
        "id": "Pgxoj_vXcej6",
        "outputId": "8664b589-ed29-4426-d52c-33a85ff7af2e"
      },
      "outputs": [
        {
          "data": {
            "text/plain": [
              "CycleBuyer\n",
              "True     6244\n",
              "False    6140\n",
              "dtype: int64"
            ]
          },
          "execution_count": 13,
          "metadata": {},
          "output_type": "execute_result"
        }
      ],
      "source": [
        "train_data.value_counts(train_data.CycleBuyer == 0)"
      ]
    },
    {
      "cell_type": "code",
      "execution_count": null,
      "metadata": {
        "colab": {
          "base_uri": "https://localhost:8080/"
        },
        "id": "3FcU0ClP--CC",
        "outputId": "f8b181b0-524d-4922-9ae3-507300e7f61e"
      },
      "outputs": [
        {
          "data": {
            "text/plain": [
              "50.41989664082688"
            ]
          },
          "execution_count": 51,
          "metadata": {},
          "output_type": "execute_result"
        }
      ],
      "source": [
        "(6244/12384)*100"
      ]
    },
    {
      "attachments": {},
      "cell_type": "markdown",
      "metadata": {
        "id": "B9fpERQ6U9cV"
      },
      "source": [
        "### Q4. What is the proportion of customers who have bought cycles in the training dataset?"
      ]
    },
    {
      "cell_type": "code",
      "execution_count": null,
      "metadata": {
        "colab": {
          "base_uri": "https://localhost:8080/"
        },
        "id": "FeJvw5Mf_QT-",
        "outputId": "97fbc824-29c5-4e50-e2c2-76c144713d50"
      },
      "outputs": [
        {
          "data": {
            "text/plain": [
              "49.58010335917313"
            ]
          },
          "execution_count": 52,
          "metadata": {},
          "output_type": "execute_result"
        }
      ],
      "source": [
        "(6140/12384)*100"
      ]
    },
    {
      "attachments": {},
      "cell_type": "markdown",
      "metadata": {
        "id": "2lC9blx4VBhZ"
      },
      "source": [
        "### Q5. What is the proportion of customers who have not bought cycles in the test dataset?"
      ]
    },
    {
      "cell_type": "code",
      "execution_count": null,
      "metadata": {
        "colab": {
          "base_uri": "https://localhost:8080/"
        },
        "id": "EDnJT33mfkBx",
        "outputId": "2ce41941-8538-4753-8cbd-e79178ccc49d"
      },
      "outputs": [
        {
          "data": {
            "text/plain": [
              "CycleBuyer\n",
              "True     3108\n",
              "False    2992\n",
              "dtype: int64"
            ]
          },
          "execution_count": 15,
          "metadata": {},
          "output_type": "execute_result"
        }
      ],
      "source": [
        "test_data.value_counts(test_data.CycleBuyer == 0)"
      ]
    },
    {
      "cell_type": "code",
      "execution_count": null,
      "metadata": {
        "colab": {
          "base_uri": "https://localhost:8080/"
        },
        "id": "WR3_Hc3f_c_7",
        "outputId": "12e7b70a-6fdc-404f-c8d3-09fb5282eb33"
      },
      "outputs": [
        {
          "data": {
            "text/plain": [
              "50.95081967213114"
            ]
          },
          "execution_count": 53,
          "metadata": {},
          "output_type": "execute_result"
        }
      ],
      "source": [
        "(3108/6100)*100"
      ]
    },
    {
      "attachments": {},
      "cell_type": "markdown",
      "metadata": {
        "id": "5axDKIs-VE9U"
      },
      "source": [
        "### Q6. What is the proportion of customers who have bought cycles in the test dataset?"
      ]
    },
    {
      "cell_type": "code",
      "execution_count": null,
      "metadata": {
        "colab": {
          "base_uri": "https://localhost:8080/"
        },
        "id": "xzvL2UIk_qvE",
        "outputId": "3930302c-041c-4524-ec0b-34d17762f1f1"
      },
      "outputs": [
        {
          "data": {
            "text/plain": [
              "49.049180327868854"
            ]
          },
          "execution_count": 54,
          "metadata": {},
          "output_type": "execute_result"
        }
      ],
      "source": [
        "(2992/6100)*100"
      ]
    },
    {
      "attachments": {},
      "cell_type": "markdown",
      "metadata": {
        "id": "pmEcWdFsVHxI"
      },
      "source": [
        "### **Fit the model on the train data and make predictions on the train data, and answer questions (7 to 9).**"
      ]
    },
    {
      "cell_type": "code",
      "execution_count": null,
      "metadata": {
        "id": "h1NBmRJutmpt"
      },
      "outputs": [],
      "source": [
        "X_train = train_data[[\"MaritalStatus\", \"YearlyIncome\",\t\"TotalChildren\",\t\"ChildrenAtHome\",\t\"HouseOwnerFlag\",\t\"NumberCarsOwned\",\t\"Age\"]]\n",
        "y_train = train_data[\"CycleBuyer\"]\n",
        "X_test = test_data[[\"MaritalStatus\", \"YearlyIncome\",\t\"TotalChildren\",\t\"ChildrenAtHome\",\t\"HouseOwnerFlag\",\t\"NumberCarsOwned\",\t\"Age\"]]\n",
        "y_test = test_data[\"CycleBuyer\"]"
      ]
    },
    {
      "cell_type": "code",
      "execution_count": null,
      "metadata": {
        "id": "3PTR4M6ruhx-"
      },
      "outputs": [],
      "source": [
        "from sklearn.linear_model import LogisticRegression\n",
        "from sklearn.metrics import accuracy_score, f1_score, recall_score, precision_score, confusion_matrix, ConfusionMatrixDisplay"
      ]
    },
    {
      "cell_type": "code",
      "execution_count": null,
      "metadata": {
        "id": "mmX5Pc-euyxc"
      },
      "outputs": [],
      "source": [
        "logreg = LogisticRegression()\n",
        "logreg.fit(X_train, y_train)\n",
        "y_pred_train = logreg.predict(X_train)"
      ]
    },
    {
      "attachments": {},
      "cell_type": "markdown",
      "metadata": {
        "id": "IkL549_hVLex"
      },
      "source": [
        "### Q7. Compare the predictions of y_train and y_pred_train. What is the training accuracy?"
      ]
    },
    {
      "cell_type": "code",
      "execution_count": null,
      "metadata": {
        "colab": {
          "base_uri": "https://localhost:8080/"
        },
        "id": "4ZKoPodNvcio",
        "outputId": "39299fcb-4ba0-45a0-b6fd-75ed7c084265"
      },
      "outputs": [
        {
          "data": {
            "text/plain": [
              "0.5274547803617571"
            ]
          },
          "execution_count": 32,
          "metadata": {},
          "output_type": "execute_result"
        }
      ],
      "source": [
        "accuracy_score(y_train, y_pred_train)"
      ]
    },
    {
      "attachments": {},
      "cell_type": "markdown",
      "metadata": {
        "id": "p7vtVi1fVPHu"
      },
      "source": [
        "### Q8. What is the training data precision of your model if the aim is to find customers who will not buy cycles?"
      ]
    },
    {
      "cell_type": "code",
      "execution_count": null,
      "metadata": {
        "colab": {
          "base_uri": "https://localhost:8080/",
          "height": 297
        },
        "id": "nC5ANRVkwNa-",
        "outputId": "e1c3d29a-8462-4ceb-ad91-3441620fb32e"
      },
      "outputs": [
        {
          "data": {
            "text/plain": [
              "<sklearn.metrics._plot.confusion_matrix.ConfusionMatrixDisplay at 0x7fccb7b72910>"
            ]
          },
          "execution_count": 38,
          "metadata": {},
          "output_type": "execute_result"
        },
        {
          "data": {
            "image/png": "[encoded data removed]",
            "text/plain": [
              "<Figure size 432x288 with 2 Axes>"
            ]
          },
          "metadata": {
            "needs_background": "light"
          },
          "output_type": "display_data"
        }
      ],
      "source": [
        "cm = confusion_matrix(y_train, y_pred_train)\n",
        "ConfusionMatrixDisplay.from_predictions(y_train, y_pred_train)"
      ]
    },
    {
      "cell_type": "code",
      "execution_count": null,
      "metadata": {
        "colab": {
          "base_uri": "https://localhost:8080/"
        },
        "id": "wjbJUlEGytFE",
        "outputId": "f9ec6243-f651-492b-a04d-9f94d2cea57d"
      },
      "outputs": [
        {
          "name": "stdout",
          "output_type": "stream",
          "text": [
            "[[4334 1910]\n",
            " [3942 2198]]\n"
          ]
        }
      ],
      "source": [
        "print(cm)"
      ]
    },
    {
      "cell_type": "code",
      "execution_count": null,
      "metadata": {
        "colab": {
          "base_uri": "https://localhost:8080/"
        },
        "id": "Fq3qp-o9y2F0",
        "outputId": "b9e5dac1-e4f2-497d-adfe-18c6fdbc5827"
      },
      "outputs": [
        {
          "data": {
            "text/plain": [
              "0.5236829386176897"
            ]
          },
          "execution_count": 40,
          "metadata": {},
          "output_type": "execute_result"
        }
      ],
      "source": [
        "cm[0,0]/(cm[0,0]+cm[1,0])"
      ]
    },
    {
      "attachments": {},
      "cell_type": "markdown",
      "metadata": {
        "id": "VgYgYb-YVUWM"
      },
      "source": [
        "### Q9. What is the training data recall of your model if the aim is to find customers who will buy cycles?"
      ]
    },
    {
      "cell_type": "code",
      "execution_count": null,
      "metadata": {
        "colab": {
          "base_uri": "https://localhost:8080/"
        },
        "id": "DFYf82lIzH6L",
        "outputId": "a0e39ce1-5df2-48f9-8209-23c48751d2d5"
      },
      "outputs": [
        {
          "data": {
            "text/plain": [
              "0.35798045602605866"
            ]
          },
          "execution_count": 41,
          "metadata": {},
          "output_type": "execute_result"
        }
      ],
      "source": [
        "cm[1,1]/(cm[1,1]+cm[1,0])"
      ]
    },
    {
      "attachments": {},
      "cell_type": "markdown",
      "metadata": {
        "id": "tA2a9wNQXAB_"
      },
      "source": [
        "### Q10. After training your model on the train data, make predictions on the test data, and answer questions 10 to 14. From the confusion matrix, identify the number of true positives."
      ]
    },
    {
      "cell_type": "code",
      "execution_count": null,
      "metadata": {
        "id": "gAYhfXoVztW5"
      },
      "outputs": [],
      "source": [
        "y_pred_test = logreg.predict(X_test)"
      ]
    },
    {
      "cell_type": "code",
      "execution_count": null,
      "metadata": {
        "colab": {
          "base_uri": "https://localhost:8080/",
          "height": 297
        },
        "id": "xUjofdZ90pLU",
        "outputId": "067bea92-50d9-4547-b030-a506381a7ecf"
      },
      "outputs": [
        {
          "data": {
            "text/plain": [
              "<sklearn.metrics._plot.confusion_matrix.ConfusionMatrixDisplay at 0x7fccb7b79650>"
            ]
          },
          "execution_count": 46,
          "metadata": {},
          "output_type": "execute_result"
        },
        {
          "data": {
            "image/png": "[encoded data removed]",
            "text/plain": [
              "<Figure size 432x288 with 2 Axes>"
            ]
          },
          "metadata": {
            "needs_background": "light"
          },
          "output_type": "display_data"
        }
      ],
      "source": [
        "cm2 = confusion_matrix(y_test, y_pred_test)\n",
        "ConfusionMatrixDisplay.from_predictions(y_test, y_pred_test)"
      ]
    },
    {
      "cell_type": "code",
      "execution_count": null,
      "metadata": {
        "colab": {
          "base_uri": "https://localhost:8080/"
        },
        "id": "OeabIq5z1GUD",
        "outputId": "9aaaf521-63e9-4417-9138-a0d7f90789d4"
      },
      "outputs": [
        {
          "name": "stdout",
          "output_type": "stream",
          "text": [
            "[[2139  969]\n",
            " [1961 1031]]\n"
          ]
        }
      ],
      "source": [
        "print(cm2)"
      ]
    },
    {
      "attachments": {},
      "cell_type": "markdown",
      "metadata": {
        "id": "mVNMsBxK0zQq"
      },
      "source": [
        "Ans : 1031"
      ]
    },
    {
      "attachments": {},
      "cell_type": "markdown",
      "metadata": {
        "id": "XgLDSoQ-XDeq"
      },
      "source": [
        "### Q11. In the test data confusion matrix, identify the number of true negatives."
      ]
    },
    {
      "attachments": {},
      "cell_type": "markdown",
      "metadata": {
        "id": "Vuz0XWtO01pD"
      },
      "source": [
        "Ans : 2139"
      ]
    },
    {
      "attachments": {},
      "cell_type": "markdown",
      "metadata": {
        "id": "eit1LC8rXIMg"
      },
      "source": [
        "### Q12. What is the precision of your model in the test data if the aim is to find customers who will not buy cycles?"
      ]
    },
    {
      "cell_type": "code",
      "execution_count": null,
      "metadata": {
        "colab": {
          "base_uri": "https://localhost:8080/"
        },
        "id": "MCoscl0H06kC",
        "outputId": "a081fcee-a3b1-4766-9004-f7c0b958f3c1"
      },
      "outputs": [
        {
          "data": {
            "text/plain": [
              "0.5217073170731708"
            ]
          },
          "execution_count": 48,
          "metadata": {},
          "output_type": "execute_result"
        }
      ],
      "source": [
        "cm2[0,0]/(cm2[0,0]+cm2[1,0])"
      ]
    },
    {
      "attachments": {},
      "cell_type": "markdown",
      "metadata": {
        "id": "yFeQZbjTXLlB"
      },
      "source": [
        "### Q13. What is the recall of your model in the test data if the aim is to find customers who will buy cycles?"
      ]
    },
    {
      "cell_type": "code",
      "execution_count": null,
      "metadata": {
        "colab": {
          "base_uri": "https://localhost:8080/"
        },
        "id": "vw5SwR331Sc1",
        "outputId": "9f6fb517-87ea-48e3-a672-61ecccf79bac"
      },
      "outputs": [
        {
          "data": {
            "text/plain": [
              "0.3445855614973262"
            ]
          },
          "execution_count": 49,
          "metadata": {},
          "output_type": "execute_result"
        }
      ],
      "source": [
        "cm2[1,1]/(cm2[1,1]+cm2[1,0])"
      ]
    },
    {
      "attachments": {},
      "cell_type": "markdown",
      "metadata": {
        "id": "vUe9gPUPXO3N"
      },
      "source": [
        "### Q14. Has the precision for predicting if a customer will buy cycle increased or decreased when the model is tested on the testing data set as compared to the results obtained from the training data set?\n",
        "\n",
        "A. Increased\n",
        "\n",
        "B. Decreased\n",
        "\n",
        "C. Both are equal"
      ]
    },
    {
      "attachments": {},
      "cell_type": "markdown",
      "metadata": {
        "id": "w0Mn5pJe1ozZ"
      },
      "source": [
        "Ans : Decreased"
      ]
    },
    {
      "attachments": {},
      "cell_type": "markdown",
      "metadata": {
        "id": "H8inQGv_XVl-"
      },
      "source": [
        "### Q15. Has the recall for predicting if a customer will buy cycle increased or decreased when the model is tested on the testing data set as compared to the results obtained from the training data set?\n",
        "\n",
        "A. Increased\n",
        "\n",
        "B. Decreased\n",
        "\n",
        "C. Both are equal"
      ]
    },
    {
      "attachments": {},
      "cell_type": "markdown",
      "metadata": {
        "id": "IbjZ9qeU1s3X"
      },
      "source": [
        "Ans : Decreased"
      ]
    },
    {
      "attachments": {},
      "cell_type": "markdown",
      "metadata": {
        "id": "dZk4-fJbXcFp"
      },
      "source": [
        "### Q16. Has the accuracy for predicting if a customer will buy cycle increased or decreased when the model is tested on the testing data set as compared to the results obtained from the training data set?\n",
        "\n",
        "A. Increased\n",
        "\n",
        "B. Decreased\n",
        "\n",
        "C. Both are equal"
      ]
    },
    {
      "cell_type": "code",
      "execution_count": null,
      "metadata": {
        "colab": {
          "base_uri": "https://localhost:8080/"
        },
        "id": "aa2ZbMB72AvK",
        "outputId": "d138de6b-11b5-406d-efd1-5be9f14db0f4"
      },
      "outputs": [
        {
          "data": {
            "text/plain": [
              "True"
            ]
          },
          "execution_count": 50,
          "metadata": {},
          "output_type": "execute_result"
        }
      ],
      "source": [
        "logreg.score(X_train, y_train) > logreg.score(X_test, y_test)"
      ]
    },
    {
      "attachments": {},
      "cell_type": "markdown",
      "metadata": {
        "id": "o7i5Kdc92Dd-"
      },
      "source": [
        "Ans : Decreased"
      ]
    }
  ],
  "metadata": {
    "colab": {
      "collapsed_sections": [
        "GOWf8kCmUy9e",
        "3-KKsZdAU1G6",
        "wRMK_Y2BU5jp",
        "B9fpERQ6U9cV",
        "5axDKIs-VE9U"
      ],
      "provenance": []
    },
    "kernelspec": {
      "display_name": "Python 3",
      "name": "python3"
    },
    "language_info": {
      "name": "python"
    }
  },
  "nbformat": 4,
  "nbformat_minor": 0
}
