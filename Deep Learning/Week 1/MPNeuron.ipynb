{
 "cells": [
  {
   "attachments": {},
   "cell_type": "markdown",
   "metadata": {},
   "source": [
    "In this notebook, we are trying to learn threshold for some functions containing only excitatory neurons."
   ]
  },
  {
   "cell_type": "code",
   "execution_count": 2,
   "metadata": {},
   "outputs": [],
   "source": [
    "import pandas as pd\n",
    "import numpy as np\n",
    "from sklearn.metrics import accuracy_score"
   ]
  },
  {
   "cell_type": "code",
   "execution_count": 3,
   "metadata": {},
   "outputs": [],
   "source": [
    "class MPModel():\n",
    "    def __init__(self):\n",
    "        self.threshold = None\n",
    "\n",
    "    def f(self, x):\n",
    "        return sum(x) >= self.threshold\n",
    "    \n",
    "    def fit(self, X, y):\n",
    "        accuracy={}\n",
    "        for theta in range(X.shape[1]+1):\n",
    "            self.threshold=theta\n",
    "            predictions=self.predict(X)\n",
    "            accuracy[theta]=accuracy_score(y, predictions)\n",
    "        best_threshold=max(accuracy,key=accuracy.get)\n",
    "        \n",
    "        print('Optimal value of threshold is', best_threshold)\n",
    "        print('Highest accuracy is', accuracy[best_threshold])\n",
    "\n",
    "    def predict(self, X):\n",
    "        results=np.array([0 for i in range(len(X))])\n",
    "        for i in range(results.shape[0]):\n",
    "            results[i]=self.f(X.iloc[i])\n",
    "        return results"
   ]
  },
  {
   "attachments": {},
   "cell_type": "markdown",
   "metadata": {},
   "source": [
    "### AND function"
   ]
  },
  {
   "cell_type": "code",
   "execution_count": 4,
   "metadata": {},
   "outputs": [
    {
     "name": "stdout",
     "output_type": "stream",
     "text": [
      "Optimal value of threshold is 2\n",
      "Highest accuracy is 1.0\n"
     ]
    }
   ],
   "source": [
    "# and function\n",
    "\n",
    "and_df = {\n",
    "    'X1': [0, 1, 0, 0],\n",
    "    'X2': [1, 1, 1, 0],\n",
    "    'y': [0, 1, 0, 0]\n",
    "}\n",
    "\n",
    "pd_df = pd.DataFrame(and_df)\n",
    "\n",
    "\n",
    "mpm = MPModel()\n",
    "mpm.fit(pd_df[['X1', 'X2']], pd_df['y'])"
   ]
  },
  {
   "attachments": {},
   "cell_type": "markdown",
   "metadata": {},
   "source": [
    "### OR function"
   ]
  },
  {
   "cell_type": "code",
   "execution_count": 5,
   "metadata": {},
   "outputs": [
    {
     "name": "stdout",
     "output_type": "stream",
     "text": [
      "Optimal value of threshold is 1\n",
      "Highest accuracy is 1.0\n"
     ]
    }
   ],
   "source": [
    "# or function\n",
    "\n",
    "or_df = {\n",
    "    'X1': [0, 1, 0, 0],\n",
    "    'X2': [1, 1, 1, 0],\n",
    "    'y': [1, 1, 1, 0]\n",
    "}\n",
    "\n",
    "pd_df = pd.DataFrame(or_df)\n",
    "\n",
    "\n",
    "mpm = MPModel()\n",
    "mpm.fit(pd_df[['X1', 'X2']], pd_df['y'])"
   ]
  },
  {
   "attachments": {},
   "cell_type": "markdown",
   "metadata": {},
   "source": [
    "### NOR function"
   ]
  },
  {
   "cell_type": "code",
   "execution_count": 6,
   "metadata": {},
   "outputs": [
    {
     "name": "stdout",
     "output_type": "stream",
     "text": [
      "Optimal value of threshold is 2\n",
      "Highest accuracy is 0.5\n"
     ]
    }
   ],
   "source": [
    "# nor function\n",
    "\n",
    "nor_df = {\n",
    "    'X1': [0, 1, 0, 0],\n",
    "    'X2': [1, 1, 1, 0],\n",
    "    'y': [0, 0, 0, 1]\n",
    "}\n",
    "\n",
    "pd_df = pd.DataFrame(nor_df)\n",
    "\n",
    "\n",
    "mpm = MPModel()\n",
    "mpm.fit(pd_df[['X1', 'X2']], pd_df['y'])"
   ]
  },
  {
   "attachments": {},
   "cell_type": "markdown",
   "metadata": {},
   "source": [
    "The threshold that the model learns in case of NOR function is wrong as NOR function contains inhibitory neurons too."
   ]
  }
 ],
 "metadata": {
  "kernelspec": {
   "display_name": "tf-keras-gpu-test",
   "language": "python",
   "name": "python3"
  },
  "language_info": {
   "codemirror_mode": {
    "name": "ipython",
    "version": 3
   },
   "file_extension": ".py",
   "mimetype": "text/x-python",
   "name": "python",
   "nbconvert_exporter": "python",
   "pygments_lexer": "ipython3",
   "version": "3.9.15"
  },
  "orig_nbformat": 4
 },
 "nbformat": 4,
 "nbformat_minor": 2
}
